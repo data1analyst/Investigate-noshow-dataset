{
 "cells": [
  {
   "cell_type": "markdown",
   "metadata": {},
   "source": [
    "# Project: Investigate a DataSet[no-show-appointment]\n",
    "\n",
    "## Table of Contents\n",
    "<ul>\n",
    "<li><a href=\"#intro\">Introduction</a></li>\n",
    "<li><a href=\"#wrangling\">Data Wrangling</a></li>\n",
    "<li><a href=\"#eda\">Exploratory Data Analysis</a></li>\n",
    "<li><a href=\"#conclusions\">Conclusions</a></li>\n",
    "</ul>"
   ]
  },
  {
   "cell_type": "markdown",
   "metadata": {},
   "source": [
    "<a id='intro'></a>\n",
    "## Introduction\n",
    "\n",
    "# Do all patient show up for there appointment?\n",
    "<br>**__This dataset collects information from 100k medical appointments in Brazil__**\n",
    "<br>Depending on number of factors ( which I'll discuss later), Which one of them is important for us to know in order to\n",
    "predict if a patient will show up for their scheduled appointment?\n",
    "\n",
    "\n",
    "\n",
    "\n",
    "### Question(s) for Analysis\n",
    ">**How many people show up in the appointment day?**\n",
    "\n",
    ">**Does SMS messeges affect the count of people showing up? and how?**\n",
    "\n",
    ">**Who append most? Male or Female?**\n",
    "\n",
    ">**Do Hypertensive patients append more than non-hypertensive?**\n",
    "\n",
    ">**How can age affect the data?**"
   ]
  },
  {
   "cell_type": "code",
   "execution_count": 1,
   "metadata": {},
   "outputs": [],
   "source": [
    "# Let's import packa\n",
    "import pandas as pd\n",
    "import numpy as np\n",
    "import matplotlib.pylab as plt\n",
    "import seaborn as sns\n",
    "from matplotlib import figure \n",
    "%matplotlib inline\n",
    "plt.style.use('fivethirtyeight')\n"
   ]
  },
  {
   "cell_type": "code",
   "execution_count": 2,
   "metadata": {},
   "outputs": [
    {
     "name": "stdout",
     "output_type": "stream",
     "text": [
      "Collecting pandas==0.25.0\n",
      "\u001b[?25l  Downloading https://files.pythonhosted.org/packages/1d/9a/7eb9952f4b4d73fbd75ad1d5d6112f407e695957444cb695cbb3cdab918a/pandas-0.25.0-cp36-cp36m-manylinux1_x86_64.whl (10.5MB)\n",
      "\u001b[K    100% |████████████████████████████████| 10.5MB 1.6MB/s eta 0:00:01   46% |███████████████                 | 4.9MB 30.9MB/s eta 0:00:01    55% |█████████████████▋              | 5.8MB 16.7MB/s eta 0:00:01    67% |█████████████████████▊          | 7.1MB 26.4MB/s eta 0:00:01    70% |██████████████████████▌         | 7.3MB 27.0MB/s eta 0:00:01    81% |██████████████████████████▏     | 8.6MB 23.7MB/s eta 0:00:01    97% |███████████████████████████████▏| 10.2MB 9.6MB/s eta 0:00:01\n",
      "\u001b[?25hCollecting numpy>=1.13.3 (from pandas==0.25.0)\n",
      "\u001b[?25l  Downloading https://files.pythonhosted.org/packages/45/b2/6c7545bb7a38754d63048c7696804a0d947328125d81bf12beaa692c3ae3/numpy-1.19.5-cp36-cp36m-manylinux1_x86_64.whl (13.4MB)\n",
      "\u001b[K    100% |████████████████████████████████| 13.4MB 1.4MB/s eta 0:00:01  6% |██                              | 860kB 12.5MB/s eta 0:00:02    20% |██████▌                         | 2.7MB 12.7MB/s eta 0:00:01    24% |████████                        | 3.3MB 13.6MB/s eta 0:00:01    29% |█████████▍                      | 3.9MB 14.3MB/s eta 0:00:01    34% |███████████                     | 4.6MB 15.4MB/s eta 0:00:01    38% |████████████▍                   | 5.2MB 13.3MB/s eta 0:00:01    43% |█████████████▉                  | 5.8MB 12.0MB/s eta 0:00:01    52% |████████████████▊               | 7.0MB 17.4MB/s eta 0:00:01    74% |███████████████████████▊        | 9.9MB 12.2MB/s eta 0:00:01    78% |█████████████████████████▏      | 10.5MB 11.7MB/s eta 0:00:01    83% |██████████████████████████▋     | 11.1MB 10.9MB/s eta 0:00:01    97% |███████████████████████████████▏| 13.0MB 10.1MB/s eta 0:00:01\n",
      "\u001b[?25hRequirement already satisfied, skipping upgrade: python-dateutil>=2.6.1 in /opt/conda/lib/python3.6/site-packages (from pandas==0.25.0) (2.6.1)\n",
      "Requirement already satisfied, skipping upgrade: pytz>=2017.2 in /opt/conda/lib/python3.6/site-packages (from pandas==0.25.0) (2017.3)\n",
      "Requirement already satisfied, skipping upgrade: six>=1.5 in /opt/conda/lib/python3.6/site-packages (from python-dateutil>=2.6.1->pandas==0.25.0) (1.11.0)\n",
      "\u001b[31mtensorflow 1.3.0 requires tensorflow-tensorboard<0.2.0,>=0.1.0, which is not installed.\u001b[0m\n",
      "Installing collected packages: numpy, pandas\n",
      "  Found existing installation: numpy 1.12.1\n",
      "    Uninstalling numpy-1.12.1:\n",
      "      Successfully uninstalled numpy-1.12.1\n",
      "  Found existing installation: pandas 0.23.3\n",
      "    Uninstalling pandas-0.23.3:\n",
      "      Successfully uninstalled pandas-0.23.3\n",
      "Successfully installed numpy-1.19.5 pandas-0.25.0\n"
     ]
    }
   ],
   "source": [
    "# Upgrade pandas to use dataframe.explode() function. \n",
    "!pip install --upgrade pandas==0.25.0"
   ]
  },
  {
   "cell_type": "markdown",
   "metadata": {},
   "source": [
    "<a id='wrangling'></a>\n",
    "## Data Wrangling"
   ]
  },
  {
   "cell_type": "markdown",
   "metadata": {},
   "source": [
    "#### Let's download our data"
   ]
  },
  {
   "cell_type": "code",
   "execution_count": 2,
   "metadata": {},
   "outputs": [
    {
     "data": {
      "text/html": [
       "<div>\n",
       "<style scoped>\n",
       "    .dataframe tbody tr th:only-of-type {\n",
       "        vertical-align: middle;\n",
       "    }\n",
       "\n",
       "    .dataframe tbody tr th {\n",
       "        vertical-align: top;\n",
       "    }\n",
       "\n",
       "    .dataframe thead th {\n",
       "        text-align: right;\n",
       "    }\n",
       "</style>\n",
       "<table border=\"1\" class=\"dataframe\">\n",
       "  <thead>\n",
       "    <tr style=\"text-align: right;\">\n",
       "      <th></th>\n",
       "      <th>PatientId</th>\n",
       "      <th>AppointmentID</th>\n",
       "      <th>Gender</th>\n",
       "      <th>ScheduledDay</th>\n",
       "      <th>AppointmentDay</th>\n",
       "      <th>Age</th>\n",
       "      <th>Neighbourhood</th>\n",
       "      <th>Scholarship</th>\n",
       "      <th>Hipertension</th>\n",
       "      <th>Diabetes</th>\n",
       "      <th>Alcoholism</th>\n",
       "      <th>Handcap</th>\n",
       "      <th>SMS_received</th>\n",
       "      <th>No-show</th>\n",
       "    </tr>\n",
       "  </thead>\n",
       "  <tbody>\n",
       "    <tr>\n",
       "      <th>0</th>\n",
       "      <td>2.987250e+13</td>\n",
       "      <td>5642903</td>\n",
       "      <td>F</td>\n",
       "      <td>2016-04-29T18:38:08Z</td>\n",
       "      <td>2016-04-29T00:00:00Z</td>\n",
       "      <td>62</td>\n",
       "      <td>JARDIM DA PENHA</td>\n",
       "      <td>0</td>\n",
       "      <td>1</td>\n",
       "      <td>0</td>\n",
       "      <td>0</td>\n",
       "      <td>0</td>\n",
       "      <td>0</td>\n",
       "      <td>No</td>\n",
       "    </tr>\n",
       "    <tr>\n",
       "      <th>1</th>\n",
       "      <td>5.589978e+14</td>\n",
       "      <td>5642503</td>\n",
       "      <td>M</td>\n",
       "      <td>2016-04-29T16:08:27Z</td>\n",
       "      <td>2016-04-29T00:00:00Z</td>\n",
       "      <td>56</td>\n",
       "      <td>JARDIM DA PENHA</td>\n",
       "      <td>0</td>\n",
       "      <td>0</td>\n",
       "      <td>0</td>\n",
       "      <td>0</td>\n",
       "      <td>0</td>\n",
       "      <td>0</td>\n",
       "      <td>No</td>\n",
       "    </tr>\n",
       "    <tr>\n",
       "      <th>2</th>\n",
       "      <td>4.262962e+12</td>\n",
       "      <td>5642549</td>\n",
       "      <td>F</td>\n",
       "      <td>2016-04-29T16:19:04Z</td>\n",
       "      <td>2016-04-29T00:00:00Z</td>\n",
       "      <td>62</td>\n",
       "      <td>MATA DA PRAIA</td>\n",
       "      <td>0</td>\n",
       "      <td>0</td>\n",
       "      <td>0</td>\n",
       "      <td>0</td>\n",
       "      <td>0</td>\n",
       "      <td>0</td>\n",
       "      <td>No</td>\n",
       "    </tr>\n",
       "    <tr>\n",
       "      <th>3</th>\n",
       "      <td>8.679512e+11</td>\n",
       "      <td>5642828</td>\n",
       "      <td>F</td>\n",
       "      <td>2016-04-29T17:29:31Z</td>\n",
       "      <td>2016-04-29T00:00:00Z</td>\n",
       "      <td>8</td>\n",
       "      <td>PONTAL DE CAMBURI</td>\n",
       "      <td>0</td>\n",
       "      <td>0</td>\n",
       "      <td>0</td>\n",
       "      <td>0</td>\n",
       "      <td>0</td>\n",
       "      <td>0</td>\n",
       "      <td>No</td>\n",
       "    </tr>\n",
       "    <tr>\n",
       "      <th>4</th>\n",
       "      <td>8.841186e+12</td>\n",
       "      <td>5642494</td>\n",
       "      <td>F</td>\n",
       "      <td>2016-04-29T16:07:23Z</td>\n",
       "      <td>2016-04-29T00:00:00Z</td>\n",
       "      <td>56</td>\n",
       "      <td>JARDIM DA PENHA</td>\n",
       "      <td>0</td>\n",
       "      <td>1</td>\n",
       "      <td>1</td>\n",
       "      <td>0</td>\n",
       "      <td>0</td>\n",
       "      <td>0</td>\n",
       "      <td>No</td>\n",
       "    </tr>\n",
       "    <tr>\n",
       "      <th>5</th>\n",
       "      <td>9.598513e+13</td>\n",
       "      <td>5626772</td>\n",
       "      <td>F</td>\n",
       "      <td>2016-04-27T08:36:51Z</td>\n",
       "      <td>2016-04-29T00:00:00Z</td>\n",
       "      <td>76</td>\n",
       "      <td>REPÚBLICA</td>\n",
       "      <td>0</td>\n",
       "      <td>1</td>\n",
       "      <td>0</td>\n",
       "      <td>0</td>\n",
       "      <td>0</td>\n",
       "      <td>0</td>\n",
       "      <td>No</td>\n",
       "    </tr>\n",
       "    <tr>\n",
       "      <th>6</th>\n",
       "      <td>7.336882e+14</td>\n",
       "      <td>5630279</td>\n",
       "      <td>F</td>\n",
       "      <td>2016-04-27T15:05:12Z</td>\n",
       "      <td>2016-04-29T00:00:00Z</td>\n",
       "      <td>23</td>\n",
       "      <td>GOIABEIRAS</td>\n",
       "      <td>0</td>\n",
       "      <td>0</td>\n",
       "      <td>0</td>\n",
       "      <td>0</td>\n",
       "      <td>0</td>\n",
       "      <td>0</td>\n",
       "      <td>Yes</td>\n",
       "    </tr>\n",
       "    <tr>\n",
       "      <th>7</th>\n",
       "      <td>3.449833e+12</td>\n",
       "      <td>5630575</td>\n",
       "      <td>F</td>\n",
       "      <td>2016-04-27T15:39:58Z</td>\n",
       "      <td>2016-04-29T00:00:00Z</td>\n",
       "      <td>39</td>\n",
       "      <td>GOIABEIRAS</td>\n",
       "      <td>0</td>\n",
       "      <td>0</td>\n",
       "      <td>0</td>\n",
       "      <td>0</td>\n",
       "      <td>0</td>\n",
       "      <td>0</td>\n",
       "      <td>Yes</td>\n",
       "    </tr>\n",
       "    <tr>\n",
       "      <th>8</th>\n",
       "      <td>5.639473e+13</td>\n",
       "      <td>5638447</td>\n",
       "      <td>F</td>\n",
       "      <td>2016-04-29T08:02:16Z</td>\n",
       "      <td>2016-04-29T00:00:00Z</td>\n",
       "      <td>21</td>\n",
       "      <td>ANDORINHAS</td>\n",
       "      <td>0</td>\n",
       "      <td>0</td>\n",
       "      <td>0</td>\n",
       "      <td>0</td>\n",
       "      <td>0</td>\n",
       "      <td>0</td>\n",
       "      <td>No</td>\n",
       "    </tr>\n",
       "    <tr>\n",
       "      <th>9</th>\n",
       "      <td>7.812456e+13</td>\n",
       "      <td>5629123</td>\n",
       "      <td>F</td>\n",
       "      <td>2016-04-27T12:48:25Z</td>\n",
       "      <td>2016-04-29T00:00:00Z</td>\n",
       "      <td>19</td>\n",
       "      <td>CONQUISTA</td>\n",
       "      <td>0</td>\n",
       "      <td>0</td>\n",
       "      <td>0</td>\n",
       "      <td>0</td>\n",
       "      <td>0</td>\n",
       "      <td>0</td>\n",
       "      <td>No</td>\n",
       "    </tr>\n",
       "  </tbody>\n",
       "</table>\n",
       "</div>"
      ],
      "text/plain": [
       "      PatientId  AppointmentID Gender          ScheduledDay  \\\n",
       "0  2.987250e+13        5642903      F  2016-04-29T18:38:08Z   \n",
       "1  5.589978e+14        5642503      M  2016-04-29T16:08:27Z   \n",
       "2  4.262962e+12        5642549      F  2016-04-29T16:19:04Z   \n",
       "3  8.679512e+11        5642828      F  2016-04-29T17:29:31Z   \n",
       "4  8.841186e+12        5642494      F  2016-04-29T16:07:23Z   \n",
       "5  9.598513e+13        5626772      F  2016-04-27T08:36:51Z   \n",
       "6  7.336882e+14        5630279      F  2016-04-27T15:05:12Z   \n",
       "7  3.449833e+12        5630575      F  2016-04-27T15:39:58Z   \n",
       "8  5.639473e+13        5638447      F  2016-04-29T08:02:16Z   \n",
       "9  7.812456e+13        5629123      F  2016-04-27T12:48:25Z   \n",
       "\n",
       "         AppointmentDay  Age      Neighbourhood  Scholarship  Hipertension  \\\n",
       "0  2016-04-29T00:00:00Z   62    JARDIM DA PENHA            0             1   \n",
       "1  2016-04-29T00:00:00Z   56    JARDIM DA PENHA            0             0   \n",
       "2  2016-04-29T00:00:00Z   62      MATA DA PRAIA            0             0   \n",
       "3  2016-04-29T00:00:00Z    8  PONTAL DE CAMBURI            0             0   \n",
       "4  2016-04-29T00:00:00Z   56    JARDIM DA PENHA            0             1   \n",
       "5  2016-04-29T00:00:00Z   76          REPÚBLICA            0             1   \n",
       "6  2016-04-29T00:00:00Z   23         GOIABEIRAS            0             0   \n",
       "7  2016-04-29T00:00:00Z   39         GOIABEIRAS            0             0   \n",
       "8  2016-04-29T00:00:00Z   21         ANDORINHAS            0             0   \n",
       "9  2016-04-29T00:00:00Z   19          CONQUISTA            0             0   \n",
       "\n",
       "   Diabetes  Alcoholism  Handcap  SMS_received No-show  \n",
       "0         0           0        0             0      No  \n",
       "1         0           0        0             0      No  \n",
       "2         0           0        0             0      No  \n",
       "3         0           0        0             0      No  \n",
       "4         1           0        0             0      No  \n",
       "5         0           0        0             0      No  \n",
       "6         0           0        0             0     Yes  \n",
       "7         0           0        0             0     Yes  \n",
       "8         0           0        0             0      No  \n",
       "9         0           0        0             0      No  "
      ]
     },
     "execution_count": 2,
     "metadata": {},
     "output_type": "execute_result"
    }
   ],
   "source": [
    "df=pd.read_csv('noshowappointments-kagglev2-may-2016.csv')\n",
    "df.head()"
   ]
  },
  {
   "cell_type": "code",
   "execution_count": 3,
   "metadata": {},
   "outputs": [
    {
     "name": "stdout",
     "output_type": "stream",
     "text": [
      "<class 'pandas.core.frame.DataFrame'>\n",
      "RangeIndex: 110527 entries, 0 to 110526\n",
      "Data columns (total 14 columns):\n",
      "PatientId         110527 non-null float64\n",
      "AppointmentID     110527 non-null int64\n",
      "Gender            110527 non-null object\n",
      "ScheduledDay      110527 non-null object\n",
      "AppointmentDay    110527 non-null object\n",
      "Age               110527 non-null int64\n",
      "Neighbourhood     110527 non-null object\n",
      "Scholarship       110527 non-null int64\n",
      "Hipertension      110527 non-null int64\n",
      "Diabetes          110527 non-null int64\n",
      "Alcoholism        110527 non-null int64\n",
      "Handcap           110527 non-null int64\n",
      "SMS_received      110527 non-null int64\n",
      "No-show           110527 non-null object\n",
      "dtypes: float64(1), int64(8), object(5)\n",
      "memory usage: 11.8+ MB\n"
     ]
    }
   ],
   "source": [
    "df.info()"
   ]
  },
  {
   "cell_type": "code",
   "execution_count": 4,
   "metadata": {},
   "outputs": [
    {
     "data": {
      "text/html": [
       "<div>\n",
       "<style scoped>\n",
       "    .dataframe tbody tr th:only-of-type {\n",
       "        vertical-align: middle;\n",
       "    }\n",
       "\n",
       "    .dataframe tbody tr th {\n",
       "        vertical-align: top;\n",
       "    }\n",
       "\n",
       "    .dataframe thead th {\n",
       "        text-align: right;\n",
       "    }\n",
       "</style>\n",
       "<table border=\"1\" class=\"dataframe\">\n",
       "  <thead>\n",
       "    <tr style=\"text-align: right;\">\n",
       "      <th></th>\n",
       "      <th>PatientId</th>\n",
       "      <th>AppointmentID</th>\n",
       "      <th>Age</th>\n",
       "      <th>Scholarship</th>\n",
       "      <th>Hipertension</th>\n",
       "      <th>Diabetes</th>\n",
       "      <th>Alcoholism</th>\n",
       "      <th>Handcap</th>\n",
       "      <th>SMS_received</th>\n",
       "    </tr>\n",
       "  </thead>\n",
       "  <tbody>\n",
       "    <tr>\n",
       "      <th>count</th>\n",
       "      <td>1.105270e+05</td>\n",
       "      <td>1.105270e+05</td>\n",
       "      <td>110527.000000</td>\n",
       "      <td>110527.000000</td>\n",
       "      <td>110527.000000</td>\n",
       "      <td>110527.000000</td>\n",
       "      <td>110527.000000</td>\n",
       "      <td>110527.000000</td>\n",
       "      <td>110527.000000</td>\n",
       "    </tr>\n",
       "    <tr>\n",
       "      <th>mean</th>\n",
       "      <td>1.474963e+14</td>\n",
       "      <td>5.675305e+06</td>\n",
       "      <td>37.088874</td>\n",
       "      <td>0.098266</td>\n",
       "      <td>0.197246</td>\n",
       "      <td>0.071865</td>\n",
       "      <td>0.030400</td>\n",
       "      <td>0.022248</td>\n",
       "      <td>0.321026</td>\n",
       "    </tr>\n",
       "    <tr>\n",
       "      <th>std</th>\n",
       "      <td>2.560949e+14</td>\n",
       "      <td>7.129575e+04</td>\n",
       "      <td>23.110205</td>\n",
       "      <td>0.297675</td>\n",
       "      <td>0.397921</td>\n",
       "      <td>0.258265</td>\n",
       "      <td>0.171686</td>\n",
       "      <td>0.161543</td>\n",
       "      <td>0.466873</td>\n",
       "    </tr>\n",
       "    <tr>\n",
       "      <th>min</th>\n",
       "      <td>3.921784e+04</td>\n",
       "      <td>5.030230e+06</td>\n",
       "      <td>-1.000000</td>\n",
       "      <td>0.000000</td>\n",
       "      <td>0.000000</td>\n",
       "      <td>0.000000</td>\n",
       "      <td>0.000000</td>\n",
       "      <td>0.000000</td>\n",
       "      <td>0.000000</td>\n",
       "    </tr>\n",
       "    <tr>\n",
       "      <th>25%</th>\n",
       "      <td>4.172614e+12</td>\n",
       "      <td>5.640286e+06</td>\n",
       "      <td>18.000000</td>\n",
       "      <td>0.000000</td>\n",
       "      <td>0.000000</td>\n",
       "      <td>0.000000</td>\n",
       "      <td>0.000000</td>\n",
       "      <td>0.000000</td>\n",
       "      <td>0.000000</td>\n",
       "    </tr>\n",
       "    <tr>\n",
       "      <th>50%</th>\n",
       "      <td>3.173184e+13</td>\n",
       "      <td>5.680573e+06</td>\n",
       "      <td>37.000000</td>\n",
       "      <td>0.000000</td>\n",
       "      <td>0.000000</td>\n",
       "      <td>0.000000</td>\n",
       "      <td>0.000000</td>\n",
       "      <td>0.000000</td>\n",
       "      <td>0.000000</td>\n",
       "    </tr>\n",
       "    <tr>\n",
       "      <th>75%</th>\n",
       "      <td>9.439172e+13</td>\n",
       "      <td>5.725524e+06</td>\n",
       "      <td>55.000000</td>\n",
       "      <td>0.000000</td>\n",
       "      <td>0.000000</td>\n",
       "      <td>0.000000</td>\n",
       "      <td>0.000000</td>\n",
       "      <td>0.000000</td>\n",
       "      <td>1.000000</td>\n",
       "    </tr>\n",
       "    <tr>\n",
       "      <th>max</th>\n",
       "      <td>9.999816e+14</td>\n",
       "      <td>5.790484e+06</td>\n",
       "      <td>115.000000</td>\n",
       "      <td>1.000000</td>\n",
       "      <td>1.000000</td>\n",
       "      <td>1.000000</td>\n",
       "      <td>1.000000</td>\n",
       "      <td>4.000000</td>\n",
       "      <td>1.000000</td>\n",
       "    </tr>\n",
       "  </tbody>\n",
       "</table>\n",
       "</div>"
      ],
      "text/plain": [
       "          PatientId  AppointmentID            Age    Scholarship  \\\n",
       "count  1.105270e+05   1.105270e+05  110527.000000  110527.000000   \n",
       "mean   1.474963e+14   5.675305e+06      37.088874       0.098266   \n",
       "std    2.560949e+14   7.129575e+04      23.110205       0.297675   \n",
       "min    3.921784e+04   5.030230e+06      -1.000000       0.000000   \n",
       "25%    4.172614e+12   5.640286e+06      18.000000       0.000000   \n",
       "50%    3.173184e+13   5.680573e+06      37.000000       0.000000   \n",
       "75%    9.439172e+13   5.725524e+06      55.000000       0.000000   \n",
       "max    9.999816e+14   5.790484e+06     115.000000       1.000000   \n",
       "\n",
       "        Hipertension       Diabetes     Alcoholism        Handcap  \\\n",
       "count  110527.000000  110527.000000  110527.000000  110527.000000   \n",
       "mean        0.197246       0.071865       0.030400       0.022248   \n",
       "std         0.397921       0.258265       0.171686       0.161543   \n",
       "min         0.000000       0.000000       0.000000       0.000000   \n",
       "25%         0.000000       0.000000       0.000000       0.000000   \n",
       "50%         0.000000       0.000000       0.000000       0.000000   \n",
       "75%         0.000000       0.000000       0.000000       0.000000   \n",
       "max         1.000000       1.000000       1.000000       4.000000   \n",
       "\n",
       "        SMS_received  \n",
       "count  110527.000000  \n",
       "mean        0.321026  \n",
       "std         0.466873  \n",
       "min         0.000000  \n",
       "25%         0.000000  \n",
       "50%         0.000000  \n",
       "75%         1.000000  \n",
       "max         1.000000  "
      ]
     },
     "execution_count": 4,
     "metadata": {},
     "output_type": "execute_result"
    }
   ],
   "source": [
    "df.describe()"
   ]
  },
  {
   "cell_type": "code",
   "execution_count": 5,
   "metadata": {},
   "outputs": [
    {
     "data": {
      "text/plain": [
       "0"
      ]
     },
     "execution_count": 5,
     "metadata": {},
     "output_type": "execute_result"
    }
   ],
   "source": [
    "df.duplicated().sum()"
   ]
  },
  {
   "cell_type": "code",
   "execution_count": 6,
   "metadata": {},
   "outputs": [
    {
     "data": {
      "text/plain": [
       "0"
      ]
     },
     "execution_count": 6,
     "metadata": {},
     "output_type": "execute_result"
    }
   ],
   "source": [
    "df.isnull().sum().sum()"
   ]
  },
  {
   "cell_type": "code",
   "execution_count": 7,
   "metadata": {},
   "outputs": [
    {
     "data": {
      "text/plain": [
       "(110527, 14)"
      ]
     },
     "execution_count": 7,
     "metadata": {},
     "output_type": "execute_result"
    }
   ],
   "source": [
    "df.shape"
   ]
  },
  {
   "cell_type": "markdown",
   "metadata": {},
   "source": [
    "#### *_What I have Obeserved_*: That there is no null values nor duplicated rows"
   ]
  },
  {
   "cell_type": "markdown",
   "metadata": {},
   "source": [
    "\n",
    "### Data Cleaning\n",
    " "
   ]
  },
  {
   "cell_type": "markdown",
   "metadata": {},
   "source": [
    "#### I want to convert the type of appointmentid and patientid into string type"
   ]
  },
  {
   "cell_type": "code",
   "execution_count": 8,
   "metadata": {},
   "outputs": [],
   "source": [
    "df['AppointmentID']=df['AppointmentID'].astype(str)\n",
    "df['PatientId']=df['PatientId'].astype(str)\n",
    "                                            "
   ]
  },
  {
   "cell_type": "code",
   "execution_count": 9,
   "metadata": {},
   "outputs": [
    {
     "data": {
      "text/html": [
       "<div>\n",
       "<style scoped>\n",
       "    .dataframe tbody tr th:only-of-type {\n",
       "        vertical-align: middle;\n",
       "    }\n",
       "\n",
       "    .dataframe tbody tr th {\n",
       "        vertical-align: top;\n",
       "    }\n",
       "\n",
       "    .dataframe thead th {\n",
       "        text-align: right;\n",
       "    }\n",
       "</style>\n",
       "<table border=\"1\" class=\"dataframe\">\n",
       "  <thead>\n",
       "    <tr style=\"text-align: right;\">\n",
       "      <th></th>\n",
       "      <th>Age</th>\n",
       "      <th>Scholarship</th>\n",
       "      <th>Hipertension</th>\n",
       "      <th>Diabetes</th>\n",
       "      <th>Alcoholism</th>\n",
       "      <th>Handcap</th>\n",
       "      <th>SMS_received</th>\n",
       "    </tr>\n",
       "  </thead>\n",
       "  <tbody>\n",
       "    <tr>\n",
       "      <th>count</th>\n",
       "      <td>110527.000000</td>\n",
       "      <td>110527.000000</td>\n",
       "      <td>110527.000000</td>\n",
       "      <td>110527.000000</td>\n",
       "      <td>110527.000000</td>\n",
       "      <td>110527.000000</td>\n",
       "      <td>110527.000000</td>\n",
       "    </tr>\n",
       "    <tr>\n",
       "      <th>mean</th>\n",
       "      <td>37.088874</td>\n",
       "      <td>0.098266</td>\n",
       "      <td>0.197246</td>\n",
       "      <td>0.071865</td>\n",
       "      <td>0.030400</td>\n",
       "      <td>0.022248</td>\n",
       "      <td>0.321026</td>\n",
       "    </tr>\n",
       "    <tr>\n",
       "      <th>std</th>\n",
       "      <td>23.110205</td>\n",
       "      <td>0.297675</td>\n",
       "      <td>0.397921</td>\n",
       "      <td>0.258265</td>\n",
       "      <td>0.171686</td>\n",
       "      <td>0.161543</td>\n",
       "      <td>0.466873</td>\n",
       "    </tr>\n",
       "    <tr>\n",
       "      <th>min</th>\n",
       "      <td>-1.000000</td>\n",
       "      <td>0.000000</td>\n",
       "      <td>0.000000</td>\n",
       "      <td>0.000000</td>\n",
       "      <td>0.000000</td>\n",
       "      <td>0.000000</td>\n",
       "      <td>0.000000</td>\n",
       "    </tr>\n",
       "    <tr>\n",
       "      <th>25%</th>\n",
       "      <td>18.000000</td>\n",
       "      <td>0.000000</td>\n",
       "      <td>0.000000</td>\n",
       "      <td>0.000000</td>\n",
       "      <td>0.000000</td>\n",
       "      <td>0.000000</td>\n",
       "      <td>0.000000</td>\n",
       "    </tr>\n",
       "    <tr>\n",
       "      <th>50%</th>\n",
       "      <td>37.000000</td>\n",
       "      <td>0.000000</td>\n",
       "      <td>0.000000</td>\n",
       "      <td>0.000000</td>\n",
       "      <td>0.000000</td>\n",
       "      <td>0.000000</td>\n",
       "      <td>0.000000</td>\n",
       "    </tr>\n",
       "    <tr>\n",
       "      <th>75%</th>\n",
       "      <td>55.000000</td>\n",
       "      <td>0.000000</td>\n",
       "      <td>0.000000</td>\n",
       "      <td>0.000000</td>\n",
       "      <td>0.000000</td>\n",
       "      <td>0.000000</td>\n",
       "      <td>1.000000</td>\n",
       "    </tr>\n",
       "    <tr>\n",
       "      <th>max</th>\n",
       "      <td>115.000000</td>\n",
       "      <td>1.000000</td>\n",
       "      <td>1.000000</td>\n",
       "      <td>1.000000</td>\n",
       "      <td>1.000000</td>\n",
       "      <td>4.000000</td>\n",
       "      <td>1.000000</td>\n",
       "    </tr>\n",
       "  </tbody>\n",
       "</table>\n",
       "</div>"
      ],
      "text/plain": [
       "                 Age    Scholarship   Hipertension       Diabetes  \\\n",
       "count  110527.000000  110527.000000  110527.000000  110527.000000   \n",
       "mean       37.088874       0.098266       0.197246       0.071865   \n",
       "std        23.110205       0.297675       0.397921       0.258265   \n",
       "min        -1.000000       0.000000       0.000000       0.000000   \n",
       "25%        18.000000       0.000000       0.000000       0.000000   \n",
       "50%        37.000000       0.000000       0.000000       0.000000   \n",
       "75%        55.000000       0.000000       0.000000       0.000000   \n",
       "max       115.000000       1.000000       1.000000       1.000000   \n",
       "\n",
       "          Alcoholism        Handcap   SMS_received  \n",
       "count  110527.000000  110527.000000  110527.000000  \n",
       "mean        0.030400       0.022248       0.321026  \n",
       "std         0.171686       0.161543       0.466873  \n",
       "min         0.000000       0.000000       0.000000  \n",
       "25%         0.000000       0.000000       0.000000  \n",
       "50%         0.000000       0.000000       0.000000  \n",
       "75%         0.000000       0.000000       1.000000  \n",
       "max         1.000000       4.000000       1.000000  "
      ]
     },
     "execution_count": 9,
     "metadata": {},
     "output_type": "execute_result"
    }
   ],
   "source": [
    "df.describe()\n",
    "\n"
   ]
  },
  {
   "cell_type": "code",
   "execution_count": 10,
   "metadata": {
    "scrolled": true
   },
   "outputs": [
    {
     "data": {
      "text/html": [
       "<div>\n",
       "<style scoped>\n",
       "    .dataframe tbody tr th:only-of-type {\n",
       "        vertical-align: middle;\n",
       "    }\n",
       "\n",
       "    .dataframe tbody tr th {\n",
       "        vertical-align: top;\n",
       "    }\n",
       "\n",
       "    .dataframe thead th {\n",
       "        text-align: right;\n",
       "    }\n",
       "</style>\n",
       "<table border=\"1\" class=\"dataframe\">\n",
       "  <thead>\n",
       "    <tr style=\"text-align: right;\">\n",
       "      <th></th>\n",
       "      <th>PatientId</th>\n",
       "      <th>AppointmentID</th>\n",
       "      <th>Gender</th>\n",
       "      <th>ScheduledDay</th>\n",
       "      <th>AppointmentDay</th>\n",
       "      <th>Neighbourhood</th>\n",
       "      <th>No-show</th>\n",
       "    </tr>\n",
       "  </thead>\n",
       "  <tbody>\n",
       "    <tr>\n",
       "      <th>count</th>\n",
       "      <td>110527</td>\n",
       "      <td>110527</td>\n",
       "      <td>110527</td>\n",
       "      <td>110527</td>\n",
       "      <td>110527</td>\n",
       "      <td>110527</td>\n",
       "      <td>110527</td>\n",
       "    </tr>\n",
       "    <tr>\n",
       "      <th>unique</th>\n",
       "      <td>62299</td>\n",
       "      <td>110527</td>\n",
       "      <td>2</td>\n",
       "      <td>103549</td>\n",
       "      <td>27</td>\n",
       "      <td>81</td>\n",
       "      <td>2</td>\n",
       "    </tr>\n",
       "    <tr>\n",
       "      <th>top</th>\n",
       "      <td>8.22145925426e+14</td>\n",
       "      <td>5708459</td>\n",
       "      <td>F</td>\n",
       "      <td>2016-05-06T07:09:54Z</td>\n",
       "      <td>2016-06-06T00:00:00Z</td>\n",
       "      <td>JARDIM CAMBURI</td>\n",
       "      <td>No</td>\n",
       "    </tr>\n",
       "    <tr>\n",
       "      <th>freq</th>\n",
       "      <td>88</td>\n",
       "      <td>1</td>\n",
       "      <td>71840</td>\n",
       "      <td>24</td>\n",
       "      <td>4692</td>\n",
       "      <td>7717</td>\n",
       "      <td>88208</td>\n",
       "    </tr>\n",
       "  </tbody>\n",
       "</table>\n",
       "</div>"
      ],
      "text/plain": [
       "                PatientId AppointmentID  Gender          ScheduledDay  \\\n",
       "count              110527        110527  110527                110527   \n",
       "unique              62299        110527       2                103549   \n",
       "top     8.22145925426e+14       5708459       F  2016-05-06T07:09:54Z   \n",
       "freq                   88             1   71840                    24   \n",
       "\n",
       "              AppointmentDay   Neighbourhood No-show  \n",
       "count                 110527          110527  110527  \n",
       "unique                    27              81       2  \n",
       "top     2016-06-06T00:00:00Z  JARDIM CAMBURI      No  \n",
       "freq                    4692            7717   88208  "
      ]
     },
     "execution_count": 10,
     "metadata": {},
     "output_type": "execute_result"
    }
   ],
   "source": [
    "df.describe(include='O')\n"
   ]
  },
  {
   "cell_type": "markdown",
   "metadata": {},
   "source": [
    "#### Now That's great! <br> in AppointmentId column : unique and count are equal, so it's better to be dropped, as it's useless"
   ]
  },
  {
   "cell_type": "markdown",
   "metadata": {},
   "source": [
    "### Drop unnecessary columns\n"
   ]
  },
  {
   "cell_type": "code",
   "execution_count": 11,
   "metadata": {},
   "outputs": [],
   "source": [
    "df.drop(['AppointmentID'],axis=1,inplace=True)"
   ]
  },
  {
   "cell_type": "code",
   "execution_count": 12,
   "metadata": {
    "scrolled": true
   },
   "outputs": [
    {
     "data": {
      "text/plain": [
       "Index(['PatientId', 'Gender', 'ScheduledDay', 'AppointmentDay', 'Age',\n",
       "       'Neighbourhood', 'Scholarship', 'Hipertension', 'Diabetes',\n",
       "       'Alcoholism', 'Handcap', 'SMS_received', 'No-show'],\n",
       "      dtype='object')"
      ]
     },
     "execution_count": 12,
     "metadata": {},
     "output_type": "execute_result"
    }
   ],
   "source": [
    "df.columns"
   ]
  },
  {
   "cell_type": "markdown",
   "metadata": {},
   "source": [
    "### There is something wrong with the age column : as age of 0 or -1 is not acceptable"
   ]
  },
  {
   "cell_type": "code",
   "execution_count": 13,
   "metadata": {},
   "outputs": [],
   "source": [
    "df.drop(df[df['Age']<0].index,inplace=True)"
   ]
  },
  {
   "cell_type": "code",
   "execution_count": 15,
   "metadata": {
    "scrolled": false
   },
   "outputs": [
    {
     "data": {
      "text/html": [
       "<div>\n",
       "<style scoped>\n",
       "    .dataframe tbody tr th:only-of-type {\n",
       "        vertical-align: middle;\n",
       "    }\n",
       "\n",
       "    .dataframe tbody tr th {\n",
       "        vertical-align: top;\n",
       "    }\n",
       "\n",
       "    .dataframe thead th {\n",
       "        text-align: right;\n",
       "    }\n",
       "</style>\n",
       "<table border=\"1\" class=\"dataframe\">\n",
       "  <thead>\n",
       "    <tr style=\"text-align: right;\">\n",
       "      <th></th>\n",
       "      <th>Age</th>\n",
       "      <th>Scholarship</th>\n",
       "      <th>Hipertension</th>\n",
       "      <th>Diabetes</th>\n",
       "      <th>Alcoholism</th>\n",
       "      <th>Handcap</th>\n",
       "      <th>SMS_received</th>\n",
       "    </tr>\n",
       "  </thead>\n",
       "  <tbody>\n",
       "    <tr>\n",
       "      <th>count</th>\n",
       "      <td>110526.000000</td>\n",
       "      <td>110526.000000</td>\n",
       "      <td>110526.000000</td>\n",
       "      <td>110526.000000</td>\n",
       "      <td>110526.000000</td>\n",
       "      <td>110526.000000</td>\n",
       "      <td>110526.000000</td>\n",
       "    </tr>\n",
       "    <tr>\n",
       "      <th>mean</th>\n",
       "      <td>37.089219</td>\n",
       "      <td>0.098266</td>\n",
       "      <td>0.197248</td>\n",
       "      <td>0.071865</td>\n",
       "      <td>0.030400</td>\n",
       "      <td>0.022248</td>\n",
       "      <td>0.321029</td>\n",
       "    </tr>\n",
       "    <tr>\n",
       "      <th>std</th>\n",
       "      <td>23.110026</td>\n",
       "      <td>0.297676</td>\n",
       "      <td>0.397923</td>\n",
       "      <td>0.258266</td>\n",
       "      <td>0.171686</td>\n",
       "      <td>0.161543</td>\n",
       "      <td>0.466874</td>\n",
       "    </tr>\n",
       "    <tr>\n",
       "      <th>min</th>\n",
       "      <td>0.000000</td>\n",
       "      <td>0.000000</td>\n",
       "      <td>0.000000</td>\n",
       "      <td>0.000000</td>\n",
       "      <td>0.000000</td>\n",
       "      <td>0.000000</td>\n",
       "      <td>0.000000</td>\n",
       "    </tr>\n",
       "    <tr>\n",
       "      <th>25%</th>\n",
       "      <td>18.000000</td>\n",
       "      <td>0.000000</td>\n",
       "      <td>0.000000</td>\n",
       "      <td>0.000000</td>\n",
       "      <td>0.000000</td>\n",
       "      <td>0.000000</td>\n",
       "      <td>0.000000</td>\n",
       "    </tr>\n",
       "    <tr>\n",
       "      <th>50%</th>\n",
       "      <td>37.000000</td>\n",
       "      <td>0.000000</td>\n",
       "      <td>0.000000</td>\n",
       "      <td>0.000000</td>\n",
       "      <td>0.000000</td>\n",
       "      <td>0.000000</td>\n",
       "      <td>0.000000</td>\n",
       "    </tr>\n",
       "    <tr>\n",
       "      <th>75%</th>\n",
       "      <td>55.000000</td>\n",
       "      <td>0.000000</td>\n",
       "      <td>0.000000</td>\n",
       "      <td>0.000000</td>\n",
       "      <td>0.000000</td>\n",
       "      <td>0.000000</td>\n",
       "      <td>1.000000</td>\n",
       "    </tr>\n",
       "    <tr>\n",
       "      <th>max</th>\n",
       "      <td>115.000000</td>\n",
       "      <td>1.000000</td>\n",
       "      <td>1.000000</td>\n",
       "      <td>1.000000</td>\n",
       "      <td>1.000000</td>\n",
       "      <td>4.000000</td>\n",
       "      <td>1.000000</td>\n",
       "    </tr>\n",
       "  </tbody>\n",
       "</table>\n",
       "</div>"
      ],
      "text/plain": [
       "                 Age    Scholarship   Hipertension       Diabetes  \\\n",
       "count  110526.000000  110526.000000  110526.000000  110526.000000   \n",
       "mean       37.089219       0.098266       0.197248       0.071865   \n",
       "std        23.110026       0.297676       0.397923       0.258266   \n",
       "min         0.000000       0.000000       0.000000       0.000000   \n",
       "25%        18.000000       0.000000       0.000000       0.000000   \n",
       "50%        37.000000       0.000000       0.000000       0.000000   \n",
       "75%        55.000000       0.000000       0.000000       0.000000   \n",
       "max       115.000000       1.000000       1.000000       1.000000   \n",
       "\n",
       "          Alcoholism        Handcap   SMS_received  \n",
       "count  110526.000000  110526.000000  110526.000000  \n",
       "mean        0.030400       0.022248       0.321029  \n",
       "std         0.171686       0.161543       0.466874  \n",
       "min         0.000000       0.000000       0.000000  \n",
       "25%         0.000000       0.000000       0.000000  \n",
       "50%         0.000000       0.000000       0.000000  \n",
       "75%         0.000000       0.000000       1.000000  \n",
       "max         1.000000       4.000000       1.000000  "
      ]
     },
     "execution_count": 15,
     "metadata": {},
     "output_type": "execute_result"
    }
   ],
   "source": [
    "df.describe()"
   ]
  },
  {
   "cell_type": "markdown",
   "metadata": {},
   "source": [
    "#### I'll make columns in lowercase."
   ]
  },
  {
   "cell_type": "code",
   "execution_count": 16,
   "metadata": {},
   "outputs": [],
   "source": [
    "df.rename(columns=lambda x: x.lower(),inplace=True)"
   ]
  },
  {
   "cell_type": "code",
   "execution_count": 17,
   "metadata": {},
   "outputs": [
    {
     "data": {
      "text/plain": [
       "Index(['patientid', 'gender', 'scheduledday', 'appointmentday', 'age',\n",
       "       'neighbourhood', 'scholarship', 'hipertension', 'diabetes',\n",
       "       'alcoholism', 'handcap', 'sms_received', 'no-show'],\n",
       "      dtype='object')"
      ]
     },
     "execution_count": 17,
     "metadata": {},
     "output_type": "execute_result"
    }
   ],
   "source": [
    "df.columns"
   ]
  },
  {
   "cell_type": "markdown",
   "metadata": {},
   "source": [
    "#### Correct the mislabel in (hipertension)\n"
   ]
  },
  {
   "cell_type": "code",
   "execution_count": 18,
   "metadata": {},
   "outputs": [],
   "source": [
    "df.rename(columns={'hipertension':'hypertension'}, inplace=True)"
   ]
  },
  {
   "cell_type": "markdown",
   "metadata": {},
   "source": [
    "#### Correct the mislabel in (handcap)"
   ]
  },
  {
   "cell_type": "code",
   "execution_count": 19,
   "metadata": {},
   "outputs": [],
   "source": [
    "df.rename(columns={'handcap':'handicap'},inplace=True)"
   ]
  },
  {
   "cell_type": "markdown",
   "metadata": {},
   "source": [
    "#### handle some column labels"
   ]
  },
  {
   "cell_type": "code",
   "execution_count": 20,
   "metadata": {},
   "outputs": [],
   "source": [
    "df.rename(columns={'patientid':'patient_id','scheduledday':'sched_day','appointmentday':'app_day','no-show':'show'},inplace=True)"
   ]
  },
  {
   "cell_type": "code",
   "execution_count": 21,
   "metadata": {},
   "outputs": [
    {
     "data": {
      "text/plain": [
       "Index(['patient_id', 'gender', 'sched_day', 'app_day', 'age', 'neighbourhood',\n",
       "       'scholarship', 'hypertension', 'diabetes', 'alcoholism', 'handicap',\n",
       "       'sms_received', 'show'],\n",
       "      dtype='object')"
      ]
     },
     "execution_count": 21,
     "metadata": {},
     "output_type": "execute_result"
    }
   ],
   "source": [
    "df.columns"
   ]
  },
  {
   "cell_type": "markdown",
   "metadata": {},
   "source": [
    "#### let's convert schedule_day and appointmen_day into to date time"
   ]
  },
  {
   "cell_type": "code",
   "execution_count": 22,
   "metadata": {},
   "outputs": [],
   "source": [
    "df['sched_day']=pd.to_datetime(df['sched_day'])\n",
    "df['app_day']=pd.to_datetime(df['app_day'])\n"
   ]
  },
  {
   "cell_type": "markdown",
   "metadata": {},
   "source": [
    "I want to extract month, hour and day of week:"
   ]
  },
  {
   "cell_type": "code",
   "execution_count": 23,
   "metadata": {},
   "outputs": [],
   "source": [
    "df['sched_month']=df['sched_day'].dt.month"
   ]
  },
  {
   "cell_type": "code",
   "execution_count": 24,
   "metadata": {},
   "outputs": [],
   "source": [
    "df['sched_hour']=df['sched_day'].dt.hour"
   ]
  },
  {
   "cell_type": "code",
   "execution_count": 25,
   "metadata": {},
   "outputs": [],
   "source": [
    "df['sched_week_day']=df['sched_day'].dt.weekday_name\n"
   ]
  },
  {
   "cell_type": "code",
   "execution_count": 26,
   "metadata": {},
   "outputs": [],
   "source": [
    "df['app_month']=df['app_day'].dt.month\n",
    "df['app_week_day']=df['app_day'].dt.weekday_name\n",
    "df['app_hour']=df['app_day'].dt.hour"
   ]
  },
  {
   "cell_type": "markdown",
   "metadata": {},
   "source": [
    "make a column describing the number of wait days"
   ]
  },
  {
   "cell_type": "code",
   "execution_count": 27,
   "metadata": {},
   "outputs": [],
   "source": [
    "df['wait_days']=df['app_day']-df['sched_day']"
   ]
  },
  {
   "cell_type": "code",
   "execution_count": 28,
   "metadata": {},
   "outputs": [],
   "source": [
    "df['wait_days']=df['wait_days'].astype(str)\n",
    "df['wait_days']=df['wait_days'].apply(lambda x:x.split(\" \")[0])\n",
    "df['wait_days']=df['wait_days'].astype(int)"
   ]
  },
  {
   "cell_type": "markdown",
   "metadata": {},
   "source": [
    "##### Let's check if we done it corrrectly:"
   ]
  },
  {
   "cell_type": "code",
   "execution_count": 29,
   "metadata": {},
   "outputs": [
    {
     "data": {
      "text/html": [
       "<div>\n",
       "<style scoped>\n",
       "    .dataframe tbody tr th:only-of-type {\n",
       "        vertical-align: middle;\n",
       "    }\n",
       "\n",
       "    .dataframe tbody tr th {\n",
       "        vertical-align: top;\n",
       "    }\n",
       "\n",
       "    .dataframe thead th {\n",
       "        text-align: right;\n",
       "    }\n",
       "</style>\n",
       "<table border=\"1\" class=\"dataframe\">\n",
       "  <thead>\n",
       "    <tr style=\"text-align: right;\">\n",
       "      <th></th>\n",
       "      <th>patient_id</th>\n",
       "      <th>gender</th>\n",
       "      <th>sched_day</th>\n",
       "      <th>app_day</th>\n",
       "      <th>age</th>\n",
       "      <th>neighbourhood</th>\n",
       "      <th>scholarship</th>\n",
       "      <th>hypertension</th>\n",
       "      <th>diabetes</th>\n",
       "      <th>alcoholism</th>\n",
       "      <th>handicap</th>\n",
       "      <th>sms_received</th>\n",
       "      <th>show</th>\n",
       "      <th>sched_month</th>\n",
       "      <th>sched_hour</th>\n",
       "      <th>sched_week_day</th>\n",
       "      <th>app_month</th>\n",
       "      <th>app_week_day</th>\n",
       "      <th>app_hour</th>\n",
       "      <th>wait_days</th>\n",
       "    </tr>\n",
       "  </thead>\n",
       "  <tbody>\n",
       "    <tr>\n",
       "      <th>0</th>\n",
       "      <td>2.98724998243e+13</td>\n",
       "      <td>F</td>\n",
       "      <td>2016-04-29 18:38:08</td>\n",
       "      <td>2016-04-29</td>\n",
       "      <td>62</td>\n",
       "      <td>JARDIM DA PENHA</td>\n",
       "      <td>0</td>\n",
       "      <td>1</td>\n",
       "      <td>0</td>\n",
       "      <td>0</td>\n",
       "      <td>0</td>\n",
       "      <td>0</td>\n",
       "      <td>No</td>\n",
       "      <td>4</td>\n",
       "      <td>18</td>\n",
       "      <td>Friday</td>\n",
       "      <td>4</td>\n",
       "      <td>Friday</td>\n",
       "      <td>0</td>\n",
       "      <td>-1</td>\n",
       "    </tr>\n",
       "    <tr>\n",
       "      <th>1</th>\n",
       "      <td>5.58997776694e+14</td>\n",
       "      <td>M</td>\n",
       "      <td>2016-04-29 16:08:27</td>\n",
       "      <td>2016-04-29</td>\n",
       "      <td>56</td>\n",
       "      <td>JARDIM DA PENHA</td>\n",
       "      <td>0</td>\n",
       "      <td>0</td>\n",
       "      <td>0</td>\n",
       "      <td>0</td>\n",
       "      <td>0</td>\n",
       "      <td>0</td>\n",
       "      <td>No</td>\n",
       "      <td>4</td>\n",
       "      <td>16</td>\n",
       "      <td>Friday</td>\n",
       "      <td>4</td>\n",
       "      <td>Friday</td>\n",
       "      <td>0</td>\n",
       "      <td>-1</td>\n",
       "    </tr>\n",
       "    <tr>\n",
       "      <th>2</th>\n",
       "      <td>4.26296229995e+12</td>\n",
       "      <td>F</td>\n",
       "      <td>2016-04-29 16:19:04</td>\n",
       "      <td>2016-04-29</td>\n",
       "      <td>62</td>\n",
       "      <td>MATA DA PRAIA</td>\n",
       "      <td>0</td>\n",
       "      <td>0</td>\n",
       "      <td>0</td>\n",
       "      <td>0</td>\n",
       "      <td>0</td>\n",
       "      <td>0</td>\n",
       "      <td>No</td>\n",
       "      <td>4</td>\n",
       "      <td>16</td>\n",
       "      <td>Friday</td>\n",
       "      <td>4</td>\n",
       "      <td>Friday</td>\n",
       "      <td>0</td>\n",
       "      <td>-1</td>\n",
       "    </tr>\n",
       "    <tr>\n",
       "      <th>3</th>\n",
       "      <td>867951213174.0</td>\n",
       "      <td>F</td>\n",
       "      <td>2016-04-29 17:29:31</td>\n",
       "      <td>2016-04-29</td>\n",
       "      <td>8</td>\n",
       "      <td>PONTAL DE CAMBURI</td>\n",
       "      <td>0</td>\n",
       "      <td>0</td>\n",
       "      <td>0</td>\n",
       "      <td>0</td>\n",
       "      <td>0</td>\n",
       "      <td>0</td>\n",
       "      <td>No</td>\n",
       "      <td>4</td>\n",
       "      <td>17</td>\n",
       "      <td>Friday</td>\n",
       "      <td>4</td>\n",
       "      <td>Friday</td>\n",
       "      <td>0</td>\n",
       "      <td>-1</td>\n",
       "    </tr>\n",
       "    <tr>\n",
       "      <th>4</th>\n",
       "      <td>8.84118644818e+12</td>\n",
       "      <td>F</td>\n",
       "      <td>2016-04-29 16:07:23</td>\n",
       "      <td>2016-04-29</td>\n",
       "      <td>56</td>\n",
       "      <td>JARDIM DA PENHA</td>\n",
       "      <td>0</td>\n",
       "      <td>1</td>\n",
       "      <td>1</td>\n",
       "      <td>0</td>\n",
       "      <td>0</td>\n",
       "      <td>0</td>\n",
       "      <td>No</td>\n",
       "      <td>4</td>\n",
       "      <td>16</td>\n",
       "      <td>Friday</td>\n",
       "      <td>4</td>\n",
       "      <td>Friday</td>\n",
       "      <td>0</td>\n",
       "      <td>-1</td>\n",
       "    </tr>\n",
       "  </tbody>\n",
       "</table>\n",
       "</div>"
      ],
      "text/plain": [
       "          patient_id gender           sched_day    app_day  age  \\\n",
       "0  2.98724998243e+13      F 2016-04-29 18:38:08 2016-04-29   62   \n",
       "1  5.58997776694e+14      M 2016-04-29 16:08:27 2016-04-29   56   \n",
       "2  4.26296229995e+12      F 2016-04-29 16:19:04 2016-04-29   62   \n",
       "3     867951213174.0      F 2016-04-29 17:29:31 2016-04-29    8   \n",
       "4  8.84118644818e+12      F 2016-04-29 16:07:23 2016-04-29   56   \n",
       "\n",
       "       neighbourhood  scholarship  hypertension  diabetes  alcoholism  \\\n",
       "0    JARDIM DA PENHA            0             1         0           0   \n",
       "1    JARDIM DA PENHA            0             0         0           0   \n",
       "2      MATA DA PRAIA            0             0         0           0   \n",
       "3  PONTAL DE CAMBURI            0             0         0           0   \n",
       "4    JARDIM DA PENHA            0             1         1           0   \n",
       "\n",
       "   handicap  sms_received show  sched_month  sched_hour sched_week_day  \\\n",
       "0         0             0   No            4          18         Friday   \n",
       "1         0             0   No            4          16         Friday   \n",
       "2         0             0   No            4          16         Friday   \n",
       "3         0             0   No            4          17         Friday   \n",
       "4         0             0   No            4          16         Friday   \n",
       "\n",
       "   app_month app_week_day  app_hour  wait_days  \n",
       "0          4       Friday         0         -1  \n",
       "1          4       Friday         0         -1  \n",
       "2          4       Friday         0         -1  \n",
       "3          4       Friday         0         -1  \n",
       "4          4       Friday         0         -1  "
      ]
     },
     "execution_count": 29,
     "metadata": {},
     "output_type": "execute_result"
    }
   ],
   "source": [
    "df.head()"
   ]
  },
  {
   "cell_type": "markdown",
   "metadata": {},
   "source": [
    "**__Now sced_day and app_day columns are not necessary.Let's drop it__**"
   ]
  },
  {
   "cell_type": "code",
   "execution_count": 30,
   "metadata": {},
   "outputs": [],
   "source": [
    "df.drop(['sched_day','app_day'],axis=1,inplace=True)"
   ]
  },
  {
   "cell_type": "code",
   "execution_count": 31,
   "metadata": {},
   "outputs": [
    {
     "data": {
      "text/html": [
       "<div>\n",
       "<style scoped>\n",
       "    .dataframe tbody tr th:only-of-type {\n",
       "        vertical-align: middle;\n",
       "    }\n",
       "\n",
       "    .dataframe tbody tr th {\n",
       "        vertical-align: top;\n",
       "    }\n",
       "\n",
       "    .dataframe thead th {\n",
       "        text-align: right;\n",
       "    }\n",
       "</style>\n",
       "<table border=\"1\" class=\"dataframe\">\n",
       "  <thead>\n",
       "    <tr style=\"text-align: right;\">\n",
       "      <th></th>\n",
       "      <th>patient_id</th>\n",
       "      <th>gender</th>\n",
       "      <th>age</th>\n",
       "      <th>neighbourhood</th>\n",
       "      <th>scholarship</th>\n",
       "      <th>hypertension</th>\n",
       "      <th>diabetes</th>\n",
       "      <th>alcoholism</th>\n",
       "      <th>handicap</th>\n",
       "      <th>sms_received</th>\n",
       "      <th>show</th>\n",
       "      <th>sched_month</th>\n",
       "      <th>sched_hour</th>\n",
       "      <th>sched_week_day</th>\n",
       "      <th>app_month</th>\n",
       "      <th>app_week_day</th>\n",
       "      <th>app_hour</th>\n",
       "      <th>wait_days</th>\n",
       "    </tr>\n",
       "  </thead>\n",
       "  <tbody>\n",
       "    <tr>\n",
       "      <th>0</th>\n",
       "      <td>2.98724998243e+13</td>\n",
       "      <td>F</td>\n",
       "      <td>62</td>\n",
       "      <td>JARDIM DA PENHA</td>\n",
       "      <td>0</td>\n",
       "      <td>1</td>\n",
       "      <td>0</td>\n",
       "      <td>0</td>\n",
       "      <td>0</td>\n",
       "      <td>0</td>\n",
       "      <td>No</td>\n",
       "      <td>4</td>\n",
       "      <td>18</td>\n",
       "      <td>Friday</td>\n",
       "      <td>4</td>\n",
       "      <td>Friday</td>\n",
       "      <td>0</td>\n",
       "      <td>-1</td>\n",
       "    </tr>\n",
       "    <tr>\n",
       "      <th>1</th>\n",
       "      <td>5.58997776694e+14</td>\n",
       "      <td>M</td>\n",
       "      <td>56</td>\n",
       "      <td>JARDIM DA PENHA</td>\n",
       "      <td>0</td>\n",
       "      <td>0</td>\n",
       "      <td>0</td>\n",
       "      <td>0</td>\n",
       "      <td>0</td>\n",
       "      <td>0</td>\n",
       "      <td>No</td>\n",
       "      <td>4</td>\n",
       "      <td>16</td>\n",
       "      <td>Friday</td>\n",
       "      <td>4</td>\n",
       "      <td>Friday</td>\n",
       "      <td>0</td>\n",
       "      <td>-1</td>\n",
       "    </tr>\n",
       "    <tr>\n",
       "      <th>2</th>\n",
       "      <td>4.26296229995e+12</td>\n",
       "      <td>F</td>\n",
       "      <td>62</td>\n",
       "      <td>MATA DA PRAIA</td>\n",
       "      <td>0</td>\n",
       "      <td>0</td>\n",
       "      <td>0</td>\n",
       "      <td>0</td>\n",
       "      <td>0</td>\n",
       "      <td>0</td>\n",
       "      <td>No</td>\n",
       "      <td>4</td>\n",
       "      <td>16</td>\n",
       "      <td>Friday</td>\n",
       "      <td>4</td>\n",
       "      <td>Friday</td>\n",
       "      <td>0</td>\n",
       "      <td>-1</td>\n",
       "    </tr>\n",
       "    <tr>\n",
       "      <th>3</th>\n",
       "      <td>867951213174.0</td>\n",
       "      <td>F</td>\n",
       "      <td>8</td>\n",
       "      <td>PONTAL DE CAMBURI</td>\n",
       "      <td>0</td>\n",
       "      <td>0</td>\n",
       "      <td>0</td>\n",
       "      <td>0</td>\n",
       "      <td>0</td>\n",
       "      <td>0</td>\n",
       "      <td>No</td>\n",
       "      <td>4</td>\n",
       "      <td>17</td>\n",
       "      <td>Friday</td>\n",
       "      <td>4</td>\n",
       "      <td>Friday</td>\n",
       "      <td>0</td>\n",
       "      <td>-1</td>\n",
       "    </tr>\n",
       "    <tr>\n",
       "      <th>4</th>\n",
       "      <td>8.84118644818e+12</td>\n",
       "      <td>F</td>\n",
       "      <td>56</td>\n",
       "      <td>JARDIM DA PENHA</td>\n",
       "      <td>0</td>\n",
       "      <td>1</td>\n",
       "      <td>1</td>\n",
       "      <td>0</td>\n",
       "      <td>0</td>\n",
       "      <td>0</td>\n",
       "      <td>No</td>\n",
       "      <td>4</td>\n",
       "      <td>16</td>\n",
       "      <td>Friday</td>\n",
       "      <td>4</td>\n",
       "      <td>Friday</td>\n",
       "      <td>0</td>\n",
       "      <td>-1</td>\n",
       "    </tr>\n",
       "  </tbody>\n",
       "</table>\n",
       "</div>"
      ],
      "text/plain": [
       "          patient_id gender  age      neighbourhood  scholarship  \\\n",
       "0  2.98724998243e+13      F   62    JARDIM DA PENHA            0   \n",
       "1  5.58997776694e+14      M   56    JARDIM DA PENHA            0   \n",
       "2  4.26296229995e+12      F   62      MATA DA PRAIA            0   \n",
       "3     867951213174.0      F    8  PONTAL DE CAMBURI            0   \n",
       "4  8.84118644818e+12      F   56    JARDIM DA PENHA            0   \n",
       "\n",
       "   hypertension  diabetes  alcoholism  handicap  sms_received show  \\\n",
       "0             1         0           0         0             0   No   \n",
       "1             0         0           0         0             0   No   \n",
       "2             0         0           0         0             0   No   \n",
       "3             0         0           0         0             0   No   \n",
       "4             1         1           0         0             0   No   \n",
       "\n",
       "   sched_month  sched_hour sched_week_day  app_month app_week_day  app_hour  \\\n",
       "0            4          18         Friday          4       Friday         0   \n",
       "1            4          16         Friday          4       Friday         0   \n",
       "2            4          16         Friday          4       Friday         0   \n",
       "3            4          17         Friday          4       Friday         0   \n",
       "4            4          16         Friday          4       Friday         0   \n",
       "\n",
       "   wait_days  \n",
       "0         -1  \n",
       "1         -1  \n",
       "2         -1  \n",
       "3         -1  \n",
       "4         -1  "
      ]
     },
     "execution_count": 31,
     "metadata": {},
     "output_type": "execute_result"
    }
   ],
   "source": [
    "df.head()"
   ]
  },
  {
   "cell_type": "code",
   "execution_count": 32,
   "metadata": {
    "scrolled": true
   },
   "outputs": [
    {
     "data": {
      "image/png": "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\n",
      "text/plain": [
       "<matplotlib.figure.Figure at 0x7f00878f4940>"
      ]
     },
     "metadata": {
      "needs_background": "light"
     },
     "output_type": "display_data"
    }
   ],
   "source": [
    "df.hist(figsize=(15,10));\n",
    "                 "
   ]
  },
  {
   "cell_type": "markdown",
   "metadata": {},
   "source": [
    "**so, I've summerized some informations:**\n",
    ">Age: most patients are young but they are evenly distributed to age of 100 \\\n",
    "\n",
    ">Alcholism: non-alcoholic patients are the major\n",
    "\n",
    ">Diabetes: most patients aren't diabetic\n",
    "\n",
    ">Hypertension: the major are not hypertensive patients\n",
    "\n",
    ">sms_recieved: most patients didn't get the sms messege ---**__This means that no sms_recieving increases the possibilty of showing up__**\n",
    "\n",
    ">patient who are **not handicap** append \n",
    "\n",
    ">If wait days more than **50 days** : people willnot append the show\n",
    "\n"
   ]
  },
  {
   "cell_type": "markdown",
   "metadata": {},
   "source": [
    "##### There is a problem, where wait_days are below 0 , but I won't drop it to not affect the rest of the data"
   ]
  },
  {
   "cell_type": "markdown",
   "metadata": {},
   "source": [
    "**no_show** is type of object.... convert to boolean to make it easy with visualizations charts <br>but first: check that they are all of the values of yes or no"
   ]
  },
  {
   "cell_type": "code",
   "execution_count": 33,
   "metadata": {},
   "outputs": [
    {
     "data": {
      "text/plain": [
       "No     88207\n",
       "Yes    22319\n",
       "Name: show, dtype: int64"
      ]
     },
     "execution_count": 33,
     "metadata": {},
     "output_type": "execute_result"
    }
   ],
   "source": [
    "df['show'].value_counts()"
   ]
  },
  {
   "cell_type": "code",
   "execution_count": 34,
   "metadata": {},
   "outputs": [],
   "source": [
    "df['show'].replace({'No':1,'Yes':0},inplace=True)\n",
    "df['show']=df['show'].astype('bool')"
   ]
  },
  {
   "cell_type": "code",
   "execution_count": 35,
   "metadata": {},
   "outputs": [
    {
     "name": "stdout",
     "output_type": "stream",
     "text": [
      "<class 'pandas.core.frame.DataFrame'>\n",
      "Int64Index: 110526 entries, 0 to 110526\n",
      "Data columns (total 18 columns):\n",
      "patient_id        110526 non-null object\n",
      "gender            110526 non-null object\n",
      "age               110526 non-null int64\n",
      "neighbourhood     110526 non-null object\n",
      "scholarship       110526 non-null int64\n",
      "hypertension      110526 non-null int64\n",
      "diabetes          110526 non-null int64\n",
      "alcoholism        110526 non-null int64\n",
      "handicap          110526 non-null int64\n",
      "sms_received      110526 non-null int64\n",
      "show              110526 non-null bool\n",
      "sched_month       110526 non-null int64\n",
      "sched_hour        110526 non-null int64\n",
      "sched_week_day    110526 non-null object\n",
      "app_month         110526 non-null int64\n",
      "app_week_day      110526 non-null object\n",
      "app_hour          110526 non-null int64\n",
      "wait_days         110526 non-null int64\n",
      "dtypes: bool(1), int64(12), object(5)\n",
      "memory usage: 15.3+ MB\n"
     ]
    }
   ],
   "source": [
    "df.info()"
   ]
  },
  {
   "cell_type": "markdown",
   "metadata": {},
   "source": [
    "<a id='eda'></a>\n",
    "## Exploratory Data Analysis\n"
   ]
  },
  {
   "cell_type": "markdown",
   "metadata": {},
   "source": [
    "#### First let's know how many people attend the appointmnet day?"
   ]
  },
  {
   "cell_type": "code",
   "execution_count": 36,
   "metadata": {},
   "outputs": [
    {
     "data": {
      "image/png": "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\n",
      "text/plain": [
       "<matplotlib.figure.Figure at 0x7f00899630f0>"
      ]
     },
     "metadata": {
      "needs_background": "light"
     },
     "output_type": "display_data"
    }
   ],
   "source": [
    "df['show'].value_counts().plot(kind='bar');"
   ]
  },
  {
   "cell_type": "code",
   "execution_count": 37,
   "metadata": {},
   "outputs": [
    {
     "data": {
      "text/plain": [
       "110526"
      ]
     },
     "execution_count": 37,
     "metadata": {},
     "output_type": "execute_result"
    }
   ],
   "source": [
    "total=df['show'].count()\n",
    "total"
   ]
  },
  {
   "cell_type": "code",
   "execution_count": 38,
   "metadata": {},
   "outputs": [
    {
     "data": {
      "text/plain": [
       "22319"
      ]
     },
     "execution_count": 38,
     "metadata": {},
     "output_type": "execute_result"
    }
   ],
   "source": [
    "absence=df.query('show == 0')['show'].count()\n",
    "absence"
   ]
  },
  {
   "cell_type": "code",
   "execution_count": 39,
   "metadata": {},
   "outputs": [
    {
     "data": {
      "text/plain": [
       "88207"
      ]
     },
     "execution_count": 39,
     "metadata": {},
     "output_type": "execute_result"
    }
   ],
   "source": [
    "append=df.query('show == 1')['show'].count()\n",
    "append"
   ]
  },
  {
   "cell_type": "code",
   "execution_count": 40,
   "metadata": {},
   "outputs": [
    {
     "data": {
      "text/plain": [
       "0.79806561352080052"
      ]
     },
     "execution_count": 40,
     "metadata": {},
     "output_type": "execute_result"
    }
   ],
   "source": [
    "prop_true=append/total\n",
    "prop_true"
   ]
  },
  {
   "cell_type": "code",
   "execution_count": 41,
   "metadata": {},
   "outputs": [
    {
     "data": {
      "text/plain": [
       "0.20193438647919945"
      ]
     },
     "execution_count": 41,
     "metadata": {},
     "output_type": "execute_result"
    }
   ],
   "source": [
    "prop_false=absence/total\n",
    "prop_false"
   ]
  },
  {
   "cell_type": "code",
   "execution_count": 42,
   "metadata": {
    "scrolled": true
   },
   "outputs": [
    {
     "data": {
      "image/png": "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\n",
      "text/plain": [
       "<matplotlib.figure.Figure at 0x7f00a4089c18>"
      ]
     },
     "metadata": {
      "needs_background": "light"
     },
     "output_type": "display_data"
    }
   ],
   "source": [
    "plt.bar(['Abscence','Attend'],[prop_false,prop_true], width=0.25 , color=['red','green']);\n"
    "plt.title('Attendance proprtions');\n"
    "plt.xlabel('Attendance');\n"
    "plt.ylabel('propotions')\n";
    "\n"
   ]
  },
  {
   "cell_type": "markdown",
   "metadata": {},
   "source": [
    "### 1- Who is more abscent than the other: Hypertensive or non-hypertensive"
   ]
  },
  {
   "cell_type": "code",
   "execution_count": 43,
   "metadata": {},
   "outputs": [
    {
     "data": {
      "image/png": "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\n",
      "text/plain": [
       "<matplotlib.figure.Figure at 0x7f0089a5f278>"
      ]
     },
     "metadata": {},
     "output_type": "display_data"
    }
   ],
   "source": [
    "df.groupby('hypertension')['show'].value_counts().plot(kind='pie')\n",
    "plt.legend();"
   ]
  },
  {
   "cell_type": "markdown",
   "metadata": {},
   "source": [
    "Here we can see that the majority who attended the appointment day are not hypertensive "
   ]
  },
  {
   "cell_type": "markdown",
   "metadata": {},
   "source": [
    "But let's see it more obviously!"
   ]
  },
  {
   "cell_type": "code",
   "execution_count": 44,
   "metadata": {},
   "outputs": [
    {
     "data": {
      "text/plain": [
       "show   hypertension\n",
       "False  0               18547\n",
       "       1                3772\n",
       "True   0               70178\n",
       "       1               18029\n",
       "Name: patient_id, dtype: int64"
      ]
     },
     "execution_count": 44,
     "metadata": {},
     "output_type": "execute_result"
    }
   ],
   "source": [
    "show_count=df.groupby(['show','hypertension']).count()['patient_id']\n",
    "show_count"
   ]
  },
  {
   "cell_type": "code",
   "execution_count": 45,
   "metadata": {},
   "outputs": [
    {
     "data": {
      "text/plain": [
       "show\n",
       "False    22319\n",
       "True     88207\n",
       "Name: patient_id, dtype: int64"
      ]
     },
     "execution_count": 45,
     "metadata": {},
     "output_type": "execute_result"
    }
   ],
   "source": [
    "show_total=df.groupby('show').count()['patient_id']\n",
    "show_total"
   ]
  },
  {
   "cell_type": "code",
   "execution_count": 46,
   "metadata": {},
   "outputs": [
    {
     "data": {
      "text/plain": [
       "hypertension\n",
       "0    0.795606\n",
       "1    0.204394\n",
       "Name: patient_id, dtype: float64"
      ]
     },
     "execution_count": 46,
     "metadata": {},
     "output_type": "execute_result"
    }
   ],
   "source": [
    "show=show_count[1]/show_total[1]\n",
    "show"
   ]
  },
  {
   "cell_type": "code",
   "execution_count": 47,
   "metadata": {},
   "outputs": [
    {
     "data": {
      "text/plain": [
       "hypertension\n",
       "0    0.830996\n",
       "1    0.169004\n",
       "Name: patient_id, dtype: float64"
      ]
     },
     "execution_count": 47,
     "metadata": {},
     "output_type": "execute_result"
    }
   ],
   "source": [
    "no_show=show_count[0]/show_total[0]\n",
    "no_show"
   ]
  },
  {
   "cell_type": "code",
   "execution_count": 48,
   "metadata": {},
   "outputs": [],
   "source": [
    "ind =np.arange(len(show))\n",
    "width = 0.1"
   ]
  },
  {
   "cell_type": "code",
   "execution_count": 49,
   "metadata": {},
   "outputs": [
    {
     "data": {
      "image/png": "iVBORw0KGgoAAAANSUhEUgAAAb4AAAEXCAYAAADSniHPAAAABHNCSVQICAgIfAhkiAAAAAlwSFlzAAALEgAACxIB0t1+/AAAADl0RVh0U29mdHdhcmUAbWF0cGxvdGxpYiB2ZXJzaW9uIDIuMS4wLCBodHRwOi8vbWF0cGxvdGxpYi5vcmcvpW3flQAAIABJREFUeJzt3XucVXW9//HXGxQoEXLQNEUFY/KEZd4VNO+Wl5N2T9TUvHQ8pWV2pYy8ZJqnm6WZec9SsrKkouP5eRQ1AdOOaYHpIKIgmsYgBKKIfn5/fNfAYrFnZs2e2XuY2e/n4zGP2Wvt71rfz3fttddnr+tXEYGZmVmjGNDbAZiZmdWTE5+ZmTUUJz4zM2soTnxmZtZQnPjMzKyhOPGZmVlDceKrgqRRkkLSPr0dC4CkDSRdI2lRFtf+vR1TXyZpmqSrejuO7pC0f7YujOztWMyfRxmSzpE0px511SXxSbou+9BD0ipJT0r6kaQR9ai/OyTNkXROYfR84E3AffWPqKIPAMcA7yHFNb1SoWz5H1dh/ImSVtU2xPIkjezlBP5+4KxeqrvLsu/UiYXR00nrwsIermuf7LMZ1c35HCfJNxGvZ9rZ3tXLt4C96lHRBvWoJHMP8OGszl2Bq4CtgSMqFZY0KCJW1i+88vVHxKvAs3UOqSPNwNMRUTHh9SWSBvV2DBHR2tsxdFe27q5P66itx3p7ewsQEcuAZfWqrOZ/wHXA7YVxXwFeBV4HjAICOBaYCiwHvpWV2wu4G1gBLAZuBN6Ym885wBzSHs9c4CXgdmB0ob4TgNnAy8AC4OvABrn3pwFXA+cDzwDPZ+Oi8DcqF+8+uem3B35P+uCWAb8FxuTePxFYBewN/B/wInA/sGsny07A57K2rQQeB84sxJ2Pb14H8wrguArjTwRWZa83Bv4FHFMoMwp4Ddg/G54HXED6AbMU+CfwTWBAbpoNss/niexzmQX8R4WYPpV9rkuAX1RY5vNy5Q8B7s3Wh6eBa4ERxXUN+DjwZBbbrcBmuTIjgV9lMa/Ilu3nC8v0quz1qVlcryvE/cWs/gHZ8Jhsni+Q1tP/Ad7eyWc7DbgGuCiLZWm2PF9XaO80oDWL4y5gj9z784rLKxu/fzY8Mle2wxjpZB1lzXqf/5uWvbcDcFs27+XAI8BH22n3/hXmc1323obZ8niatL7PprAutrf+thd3rlzZbclRwN+zdtwJvLkwn12zZbeMtJ24Bdi2kxjb2nxIFsOLWdvenStzF/DjCt//x4FzCuv3WdkyejH7TDctTHc08BfS924e8B1go2q2dz2x7uQ+2++Qtr8vZ/VOLi7/7HVzVv/4Qrv2zMb/WzY8FLgktyweBN7f0WcREb2a+M7KGrAxa75QC4DjgO2A0cAWpI3BjcDbgX2Ah4F7CgtrOfBHYPfs7z7gIUBZmSNISXYi8BbgI9mHd35hRfgX8CNgbFZfE2mj/a0sli2AgRQSHyl5Pwn8L+lLsSvpCzMHGJRbMV4jrfTvBP4tW3keJ5eAKyy7T5K+qB/PVobTSCvzydn7TVl8T2TxbdbBvDpNfNnwFcCdhTLnA4/llum87LM5j5T0P5p9DmcVPveHgXdln+dHSF+ckwsxLQLOAN6cfT47Z+Pfn28TcCBp5T4jWxa7Z8v57lxc15ESxE3A24Dx2Wdzfa7OKaSNx07ZZ3kAMKGwLrQlvuHZ8p9QWB5/A76Zvd6ctHd1ebbebA/8IGtXR5/HtGwZXgm8lXSo+jng+7ky7wM+lC2XHUiJsZUs2QObkTY4n86W1RaFDe3IsjHSyTpKWvePzOa7e1ZfUzbtw6Tv6VjS9/cw4N/bafcg0nodrPleDc/e+68sprY2fzmL6aAOlmOHcWdlurIt+W/Sd/gdpA3pXbkyY0kJ79ysnreTfqw9BgzpIMa2z+Mh4FDS+vsT0vfhDVmZCaRt0NDcdAeRtl3b5NbvpaR1+O3ZfFuAKYXlsZj0ndwO2Ddr6w1Vbu+6ve7ktvkLspi3Ia1DZxaW/5zc8AzgisJyvBS4L3st0vd/WvZ5bkfaTq6kg/UlopcSX7agHwdmZsOjspXiqxU2tgvIkkc27h1Z2X1zCytYe+/qLdm4g7Phe4CbC/P+NGmD1paYppFW3gGFcnPIfm3lxrXF25b4TiZtkDfNldk8m//xuRUjgF1yZfbKxm3fwbKbD1xcGPddYG57K0wH8wpS0lxW+HuJtRPfLlnZ5mx4YBZHfq9oHrmNRjbuG8CC7PVo0hfh3wplJgF/KcR0daHMyGz8/oXx04CLCuO2ycrulFvXngcG58p8CXgmN/xQ8TOtUM9VueHJwB8qLJ8dcst/ZmEebb/Uz+yknnnAwNy4j5N+DW/UzjQDSBu1Y3PjVgEnFsrtz9qJr9MYy6yjpA1MkO0J5MotKcbQybp4HNneaW7c67O2f6Iw/tfAHR3Mq0zcZbclq1j76MDRpPV4SG79mlyofzDp+//eDmJs+zzenxu3RTbu3dnwoGzdPSVX5ibg97nh60jf2eG5ce9i7e/rPOC0Qv37ZmU2ya17Zbd3PbXuXALcQfYjtcIyOoe1E99ppHV9cDa8YbZ8Pplbpi/ll0U2/hrgNx2tf/W8qnN/ScskrSD9Wp5LOjyZ96fC8A6kBb762HNEPET6ku2QK/d8RMzJlXmMdOhobG4+dxfmfRcwhLSX0ebPEfFal1q1Zv6zI+KfuRj+ATxaiLPtF1+bp7P/m1eaqaRhpCRQKfZRkl5fRaxfIe3p5P8m5QtExP8BDwCnZKMOy2K8vjCvGYXhe4Gtsrh3I305Hsg+92WSlpF+wTcXpit+7u3ZHTizML/Z2Xv5eT4SES/nhp9m7WX8PeDLku6T9E1J+3ZS70+AQyRtkQ1/lLSuzMrFtWshrn+RfiAV21r0p0jnjNvcS9oAvhlA0mhJN2QXHSwl/dofDmzbyXyLysbYpXU051vAVdkVsedI2qWL8UE6nDaIyuv7DusWX0tncZfdliyMiOcL8xHwxmx4d+B9heW4iLQtaQbIvyfpD4U4/5Kr/1nS3tzm2fBKUmI7NZvPCNIe/5WFecyOiCW54Xuz/2+VtBlp3fhOIca2OMbkpiu7veupdeda0h7jnOzixg90ck7/56SjaUdmw4cDw0g/RNviGgQ8XYjtODr53tXz4pb7SOfZVpF+fb9coczyCuOinfm1N76NOimvCuMr1V9WpXhUGP9aYSPX9l5nP0Dai70a/8j/SACQ9FyFcj8CviHpbFIC/E1EVCrXXlxtbRpP+jWcV2xP2eU+gHQe8YYK7+Uv5CiepI98bBFxraT/Jh1yOgD4g6RfR8Q6V7xmbiP90jxW0iWkQ1LfKMT1v8DpFaZdUmFcR4qf7e9IP+I+SdrrXkk6rN/Vi4DKxljVOhoR50v6GWmZHkj6YXFxRJzdxTjzdbYpfo8qKRN3mW1JpXUnP58BpPXvogrzWZT93yk3bkWhTKULSPIxXgF8VtKOpOXYSloHymqb16dJhwGLFuRed+V71+11JyL+Imk06TznAaQ9wPMl7RURS4szjojFkn4LHE86nHw8ae93UW6+S0gJsKjDC3XqmfhWFDe4JcwCPpa/4kjSO0i/eGflym0m6c0R8XhW5i3ACNIJ9rb57AdclptmX9Zc2NCRlaRDfZ3FeZqkTdv2+iRtTjrk+q1Opm1XRCyVtIAU++9zb+0LPBERxYTSkyaTTkT/B+kc6eEVyhQvPR5H+sW8VNKfs3HbRERXvriwZqUtLvcHSIcXu32vT0Q8Q/oFeq2kqcBNkj7RzhfwVUk3kr54j5DOhdxUiOtE0pW1xQ1dZ3aXNDC3wRhHdhFT9ot/LHB4RNwG6VYP1ux9tCmzjnYnxmJdVKovIuYCPwR+KOlLwOeB9hJf2/c53/Y5pEOd+7H293vfwnA1ym5LOvMAsCPweGTH1Yq6s35GxBxJd5D2+g4Aro2I4q1Gb5U0LLeujs/+PxIR/5A0n3R4sbinWEaldamn1h0iXbn5a+DXkr5BusBlP9LFgJX8BLhF0vak7dBHCnG9gXQY+m9diWN9v4H9UtKu7XWS3qZ0w/gNwB8j4p5cuRdJG7BdJe1GOiT3V9IFDAAXAh+Q9CVJb5H0YdLx5G9H55fwPgHsLWkbSZtKqrTMbiTtEfxc0i6SdiUljqdJu+vdcSFwhqRTJTVL+g/gP1l7j6PHRcRy4KfAt4GnWLMs83bKDmu9RdIxpF+Z382mn0M61n6lpI9KGiPpHZJOkvTFTqr/J+k8xrskbSFpk2z8JOAoSd+VtJOkN0s6VNLVkl5Xtm2SLpV0eDb9DqSLaOaTDt+053rSBu8C0vm+/OGwS0kbi99IeqfSAw72kXSBpPGVZpYzArhM0lslHUE6F3VltvwXk9arU7NlPI6UcIsbnyeAAyRtKWnTdurpTox5T5LOeR0u6Y2ShksaKukySQdmh2Z3Ju35ze5gPk9k/4+UtJmkodkPue+T9gI+lK3vXyZdZdnd9b3stqQz3yBdiPRTSXtk7T1A0iWStutmjG2uIJ3rHUu6mKkogJ9k7diX9IP+9xHRkr3/FeBTks7Oymwv6b2SrihRd6XtXY+sO5I+L+lYSTtke34nkQ71PtbBZH8g7fVOJn0/p+beu4O0XbpF0vskbZflgDMkndphMB2dAOypPypc1Vl4fxSF2wNy7+UvQX6B9i9BPo50UvflbIEUL0E+gfRrfSUpIV3AurczXFWh/t2AP2f1Bx3fzjCVNReM/I4KtzMU5l3xIo5CGZF+OT8BvELaQz2zUOYcyl/c0ulVnbnxbSf/J1Z4b162DK8lnXdqJV2Rl79QYyDwBdKl4StJCe0u4EMlYjo+1+Z5ufHvJK3s/2LNZfPfY82VY+usaxQupCBtKB7LPtNFpL3pHUqsCw9m8X6gwnvbAj8jJaqXSQnipxRuqylMM43046DtSsZ/ZcOvz5XZj3Te5CXSOeMPULgAgZRkHsnqjWzc/qx7O0OHMZZdR7PP9GnSRmsa6fzWjay5beU50g++rTtZH78H/IOUSK/LxlV9O0OJuEttSwrzWediHtJ5qltJP0xWZJ/Hj8mucG0nxnU+j2x8pQuTNsyW4W0V5nMdaf3/HGlvaQVpD2qzQrn3ks7Bv0j6fv4FmFRiHV9ne9dT6w7p6NGfs3iWkW53OKqz7Rjpx3QAP6jw3uuy9eWJbH15lnRV7oEdrTNtl4D3WUpPGTguIsZ0Vta6RtLhwG9IhyufLbw3j/TF+XpvxNYfSJpG+qKf0llZaxySmkiJ/7iI+FXhvetIyfPg3oitv6jnOT7rI5SuFt2GdGjxxmLSM7OeJ2lD0hWQXyU9au43vRtR/7W+n+Oz3vEF0i0nr2Wvzaz29iadaz4EOCHWvkLSelCfP9RpZmbWFd7jMzOzhtKnzvEtWbLEu6dmZv3Y8OHDu/OAjlK8x2dmZg3Fic/MzBqKE18XtLS0dF6oj3Mb+we3sX9wG2vDic/MzBqKE5+ZmTWUPnVVp5lZfxMRLFu2jNdeW7drvCFDhrBkSVd7tlq/DRgwgKFDhyLV/OLNdjnxmZn1omXLljF48GAGDVq3i8XBgwczZMiQXoiqdlauXMmyZcvYeOONey0GH+o0M+tFr732WsWk118NGjSo4t5tPTnxmZlZQ3HiMzOztbz97W9n0aJFvR1GzfgcXx1ceOHgutc5ceLLda/TzLpv8IUXrn49cNUqNtige5vplydO7G5I/Y73+MzMGtjy5cv58Ic/zN577824ceO45ZZbALjiiivYd999GT9+PI899hgAixcv5phjjmH8+PEcfPDB/O1vfwNg/PjxvPDCC0QEo0eP5qabbgLg4x//ONOmTeuVdnXEic/MrIHdfvvtbLHFFtx7773MmDGDgw46CIARI0Zw9913c9JJJ/GDH/wAgG984xvsuOOOTJ8+na9+9aucdtppAOy5557cd999PPLII4waNYoZM2YA8MADD7Dbbrv1TsM64MRnZtbAdthhB6ZNm8bXvvY1pk+fzvDhwwF4z3veA8BOO+3EU089BcDMmTM5+uijAdhvv/1YvHgxS5YsYdy4cUyfPp3p06dz0kknMXv2bBYuXMgmm2zC0KFDe6dhHahb4pN0qKRHJc2R9KUK728j6U5JD0p6WNLh9YrNzKxRjRkzhrvuuouxY8dy3nnn8c1vfhNI9xACDBw4kFWrVgHpZvsiSYwfP54ZM2YwY8YM3vnOdzJixAhuvfVWxo0bV7+GdEFdEp+kgcBlwGHAWGCCpLGFYmcDN0fEzsDRwA/rEZuZWSN75plneN3rXsdHPvIRTj/9dB566KF2y44fP56bb74ZgHvuuYempiaGDRvGyJEjWbRoEY8//jijRo1i3LhxXHrppY2d+IA9gDkRMTciVgKTgaMKZQIYlr0eDiysU2xmZg1r9uzZHHjggeyzzz58+9vf5vOf/3y7ZSdOnMiDDz7I+PHjOffcc7n88stXv7frrrsyZswYAMaNG8fChQvX28RXr9sZtgLm54YXAHsWypwD/I+kM4CNgIPrE5qZ2fojf/vBSy+9VPNHlh100EGrL2hp89e//nX165133pnf//73AGyyySarr9gs+vGPf7z69Z577snixYtrEG3PqFfiq/Q00uLB4gnAdRHxbUnjgBskvS0iKj7bprf6qaqm3tbWLWsQScdaWqrfYXYfYP2D29g3DBkyZPX5tEpeeumlOkZTH0uXLuW5557rtfrrlfgWAFvnhkey7qHMk4FDASJihqQhwKZAxaXT3NxcdTD5G0S7orW1laampi5P19R0TlX1dUdz80ZVTdfS0tKtZdsXuI39Q39p45IlS9rdq6vHHl9vGDZsGFtvnVJCf+6I9n6gWdJoSYNIF69MKZR5CjgIQNJbgSHA83WKz8zMGkRdEl9ErAJOB24DHiFdvTlL0nmSjsyKfRY4VdJDwE3AiVHp2lkzM7NuqNuzOiNiKjC1MG5S7vVsYO96xWNmZo3JT24xM7OG4sRnZmYNxd0SmZmtR/LdmK1aNbDb3RK5i7J1eY/PzKzBPfnkk+yxxx586lOfYq+99uJ973sfK1as4OGHH+bggw9m/PjxHHvssbzwwgsAHHHEEXzta1/jwAMPZNddd2X69OkAvPrqq3z1q1/lgAMOYPz48Vx77bW92ax2OfGZmRmPP/44p5xyCjNnzmT48OFMmTKF0047jXPOOYfp06czduxYLrrootXlV61axR133MGFF164+sHWN9xwA8OGDePOO+/kzjvv5Prrr2fevHm91KL2+VCnmZmx7bbbsuOOOwKpK6InnniCpUuXss8++wBwzDHHcMIJJ6wuX6nbojvuuINZs2Zx6623AukJLXPnzmXUqFF1bEnnnPjMzGytx6YNHDiQJUuWlCpf7Lbo4osvXufZn+sbH+o0M7N1DBs2jOHDh68+fzd58mT23rvjW60POuggrr76al555RUA5syZw/Lly2sea1d5j8/MzCq6/PLLOeuss3jxxRcZNWoUP/xhx92kHn/88Tz11FPst99+RAQjRozgZz/7WZ2iLc+Jz8xsPZK//aBeD6nedtttmTFjxurhM844Y/Xr22+/fZ3ybd0UAYwYMWJ1N0YDBgxg0qRJTJo0aZ1p1ic+1GlmZg3Fic/MzBqKE5+ZmTUUJz4zM2soTnxmZr1owIABrFy5srfDqJuVK1cyYEDvph5f1Wlm1ouGDh3KsmXLWLFixTrvLV26lGHDhvVCVLUzYMAAhg4d2qsx1C3xSToUuAQYCFwVERcV3v8ucEA2+HrgjRHxhnrFZ2bWGySx8cYbV3zvueeeY+utt65zRP1fXRKfpIHAZcAhwALgfklTsl7XAYiIz+TKnwHsXI/YzMyssdTrQOsewJyImBsRK4HJwFEdlJ8A3FSXyMzMrKHUK/FtBczPDS/Ixq1D0rbAaOCOOsRlZmYNpl7n+FRhXLRT9mjglxHxakczbGlpqTqYLVtbq562tYppW6m+vmq1tCzsxrTVL9u+wm3sH9xGq0a9Et8CIH+GdiTQ3pb5aOCTnc2wubm56mAGNzVVNV1raytNVUzbRHX1dUdz80ZVTdfS0tKtZdsXuI39g9vYP/RGYq/Xoc77gWZJoyUNIiW3KcVCkrYHNgFmFN8zMzPrCXVJfBGxCjgduA14BLg5ImZJOk/SkbmiE4DJEdHeYVAzM7Nuqdt9fBExFZhaGDepMHxOveIxM7PG5EeWmZlZQ3HiMzOzhlIq8UkaLOkCSXMlLcnGvUvS6bUNz8zMrGeV3eP7LvA24FjW3H83C/jPWgRlZmZWK2UvbnkfMCYilkt6DSAinpZU8ekrZmZm66uye3wrKSRJSZsBi3o8IjMzsxoqm/h+AVwvaTSApDcBl5IeNm1mZtZnlE18XwbmAX8F3gC0kB45dl5twjIzM6uNUuf4sq6EzgTOzA5x/tNPVzEzs76o7O0Mx0vaESAino+IkPQOSR+tbXhmZmY9q+yhzvNZuz89suGv92w4ZmZmtVU28Q0DlhbGLSGd7zMzM+szyia+2cAHCuPeR+ppwczMrM8oewP7F4Gpkj4CPA6MAQ4CDq9VYGZmZrVQao8vIv5IemTZ/cBGwJ+At0XEvTWMzczMrMeV7o8vIp4CLqphLGZmZjVXKvFJagI+B+wEDM2/FxH7lpzHocAlwEDgqohYJ4lK+jBwDulB2A9FxDFl5m1mZlZW2T2+G4HBwM3Ai12tRNJA4DLgEGABcL+kKRExO1emGZgI7B0RiyW9sav1mJmZdaZs4hsPbBYRL1dZzx7AnIiYCyBpMnAU6WrRNqcCl0XEYoCIeK7KuszMzNpV9naGh4GR3ahnK9a+AX5BNi7vLcBbJN0raWZ2aNTMzKxHld3juwP4b0nXAs/m34iIa0pMrwrjis/63ABoBvYnJdl7JL0tIl6oNMOWlpYS1Va2ZWtr1dO2VjFtK9XXV62WloXdmLb6ZdtXuI39g9to1Sib+N5J2ks7pDA+gDKJbwGwdW54JKl3h2KZmRHxCvCEpEdJifD+SjNsbm4uUW1lg5uaqpqutbWVpiqmbaK6+rqjuXmjqqZraWnp1rLtC9zG/sFt7B96I7GX7Z3hgG7Wcz/QnPXn9zRwNFC8YvM3wATgOkmbkg59zu1mvWZmZmspe45vNSUD2v7KTBMRq4DTgdtIjzm7OSJmSTpP0pFZsduARZJmA3cCn48I9/BuZmY9qux9fFuRelzfl3UfTD2wzDwiYiowtTBuUu51AGdlf2ZmZjVRdo/vR8BK0vM5lwG7AFOA02oUl5mZWU105T6+bSJiuaSIiIcknQxMB66sXXhmZmY9q+we36vAquz1C5I2A5az7r14ZmZm67Wyie8+1nRBdBvwc+AW4IFaBGVmZlYrZQ91fpQ1SfJM0gOrhwLfq0VQZmZmtVL2Pr4Xcq9XAOfXLCIzM7MaajfxSTqvzAzytySYmZmt7zra48s/YmwI8AHSE1ieBLYh9bjwq9qFZmZm1vPaTXwR8bG211k3QhMi4le5ce8HPlTb8MzMzHpW2as6DyM9SzPvVtZc6WlmZtYnlE18c4BPFsZ9Ani8Z8MxMzOrrbK3M5wC/FrSF0i9K2xFuqH9/bUKzMzMrBbK3s7woKRmYBzwJuAZYEbWd56ZmVmfUXaPjyzJ3Z3vikjSgIh4rSaRmZmZ1UCpc3ySdpE0Q9Jy4JXsb1X238zMrM8ou8d3PfBb4CTgxdqFY2ZmVltlr+rcFvhKRDwSEU/m/8pWJOlQSY9KmiPpSxXeP1HS85L+kv2dUnbeZmZmZZVNfL8G3lVtJZIGApeR7gccC0yQNLZC0Z9HxE7Z31XV1mdmZtaesoc6h5BuZ/gj8Gz+jYg4vsT0ewBzImIurH4SzFHA7C7EamZm1m1lE99supektgLm54YXAHtWKPcBSfsCjwGfiYj5FcqYmZlVrex9fOd2sx5Vmm1h+LfATRHxsqTTSBfUHNjeDFtaWqoOZsvW1qqnba1i2laqr69aLS0LuzFt9cu2r3Ab+we30apR+j4+SYcARwNvjIj3SNoNGBYRd5SYfAFr9/YwElhryxwRi3KDVwLf7GiGzc3NpeKuZHBTU1XTtba20lTFtE1UV193NDdvVNV0LS0t3Vq2fYHb2D+4jf1DbyT2svfxnQFcDrQA+2ajVwBfL1nP/UCzpNGSBpES6JRCHW/KDR4JPFJy3mZmZqWV3eM7EzgoIuZJ+mI27u/A9mUmjohVkk4HbgMGAtdExKyss9sHImIK8ClJR5JujG8FTuxCO8zMzEopm/g2Zs3FKW3n5jYEVpatKCKmAlML4yblXk8EJpadn5mZWTXK3sd3N1C86fxTwJ09G46ZmVltld3jOwP4raRTgY0lPQosBd5Ts8jMzMxqoOztDM9I2h3YnfT4svnAn9wzg5mZ9TVlr+q8NZI/RcQvImJmRLwm6ZZaB2hmZtaTyp7jO6Cd8fv3UBxmZmZ10eGhzux2A4BBuddttgNK985gZma2PujsHF/b01YGsPaTV4J0nu+cGsRkZmZWMx0mvoj4GICk6RFxZX1CMjMzq52y5/gqPjdT0nM9GIuZmVnNlU18GxZHSNqQ9PgxMzOzPqOzi1vuIZ3PGyLp7sLbI4HptQrMzMysFjq7uOUqUl96uwNX58YH8A+gTJdEZmZm643OLm65HkDSzIj4e31CMjMzq52yjyz7u6TNgT2ATcn1qB4R19QoNjMzsx5XKvFJei/wU1JHtDsAs4C3AX8EnPjMzKzPKHtV59eBj0XEzsDy7P/HgT/XLDIzM7MaKJv4tomIXxTGXQ8cX7YiSYdKelTSHEnFvv3y5T4oKSTtVnbeZmZmZZVNfM9l5/gA5kkaB7yZkvfxSRoIXAYcBowFJkgaW6HcxqQObu8rGZeZmVmXlE18VwL7ZK+/S+p5/SHghyWn3wOYExFzI2IlMBk4qkK584GLgZdKztfMzKxLyl7V+c3c659ImgZsFBGPlKxnK9JDrdssAPbMF5C0M7B1RPxO0udKztfMzKxLSiW+ooh4qouTqMK4WP2mNIC0J3li2Rm2tLR0MYQ1tmxtrXra1iqmbaX6+qrV0rKwG9NWv2z7Crexf3AbrRpVJb4qLGDtbo1GAvkt88ak2yOmSQLYApgi6ciIeKDSDJubm6vhbj7hAAASQklEQVQOZnBTU1XTtba20lTFtE1UV193NDdvVNV0LS0t3Vq2fYHb2D+4jf1DbyT2suf4uut+oFnSaEmDgKOBKW1vRsSSiNg0IkZFxChgJtBu0jMzM6tWu4lP0pG51+v0ztAVEbEKOB24DXgEuDkiZkk6L1+PmZlZrXV0qPOnwLDs9aLc66pExFRgamHcpHbK7t+duszMzNrTUeJ7VtLpwGxgA0kHUOEilYhwDw1mZtZndJT4TgTOAz4NDKLyMzkD2K7nwzIzM6uNdhNfREwHDgaQNCcixtQtKjMzsxopewP7GABJ25BuRl8QEfM7nsrMzGz9U+p2BklbSLoLmAPcAjwu6W5JW9Y0OjMzsx5W9j6+H5GezblJRLwJ2AR4MBtvZmbWZ5R9css+wJsi4hWAiFgu6QvA0zWLzMzMrAbK7vEtJnUnlLc98ELPhmNmZlZbZff4LgZul3Q18CSwLfAx4Ku1CszMzKwWyl7VeaWkx4FjgB1JD5ie4JvXzcysryndO0OW5JzozMysT6tX7wxmZmbrBSc+MzNrKE58ZmbWUMo+ueVz7Yw/q2fDMTMzq62ye3wV+80Dzu6pQMzMzOqhw6s6JR2YvRxYoT++7YB/la1I0qHAJcBA4KqIuKjw/mnAJ4FXgWXAxyNidtn5m5mZldHZ7QxXZ/+HsHZ/fAE8C5xRphJJA4HLgEOABcD9kqYUEtuNEfGjrPyRwHeAQ8vM38zMrKwOE19EjAaQ9JOIOL4b9ewBzImIudn8JgNHkXp3b6traa78RqTkamZm1qPKPrllddKTNKDw3mslZrEVkO+/bwGwZ7GQpE8CZ5F6fD+w+L6ZmVl3lUp8knYhHarckXTYE9L5viCds+t0FhXGrbNHFxGXAZdJOoZ04cwJ7c2wpaWlRLWVbdnaWvW0rVVM20r19VWrpWVhN6atftn2FW5j/+A2WjXKPrLseuC3wEnAi1XUswDYOjc8kvS8z/ZMBi7vaIbNzc1VhJEMbmqqarrW1laaqpi2ierq647m5o2qmq6lpaVby7YvcBv7B7exf+iNxF428W0LfCUiqj3vdj/QLGk0qQ+/o0kPvF5NUnNEtC2BIwD/zDEzsx5XNvH9GngXcFs1lUTEKkmnZ9MPBK6JiFmSzgMeiIgpwOmSDgZeIfX/1+5hTjMzs2qVTXxDgF9L+iPpNobVyl7tGRFTgamFcZNyrz9dMhYzM7OqlU18s8ndemBmZtZXlb2d4dxaB2JmZlYPZW9naPeeOvfCbmZmfUnZQ51XF4Y3I91kvoD0zE4zM7M+oeyhztH54ezZm2fThYdUm5mZrQ+q6og2Il4FLgC+0LPhmJmZ1VZ3emA/BCjznE4zM7P1RtmLW+az9rM1X0+6t+8TtQjKzMysVspe3HJcYXg58FihKyEzM7P1XtmLW+6C1V0SbQ78o2R3RGZmZuuVUuf4JG0s6SfACtJDpldIul7S8JpGZ2Zm1sPKXtzyA1Kv6G8HXpf9fz3w/RrFZWZmVhNlz/EdCmwXEW198T0m6WPA47UJy8zMrDbK7vG9RHpaS96mwMs9G46ZmVltld3juwr4f5K+AzxJ6pj2M8CPaxWYmZlZLZRNfBcAC0m9pm+Zvb4YuKZGcZmZmdVE2dsZgpTkqk50kg4FLiH1wH5VRFxUeP8s4BRgFfA8cFJEPFltfWZmZpWUvZ3h+5LGF8aNl/S9ktMPBC4DDgPGAhMkjS0UexDYLSJ2BH5J2qM0MzPrUWUPdU4APlcY92fgN8CZJabfA5gTEXMBJE0GjiLXq3tE3JkrP5N1nxZjZtbnDL7wwqqn3bK1lcFNTV2e7uWJE6uusxGUTXzBunuHAyuMa89WwPzc8AJgzw7Knwz8oaMZtrS0lKx6XVu2tlY9bWsV07ZSfX3VamlZ2I1pq1+2fYXb2D/0hTZ2Z3sD1W1zFvaB5dKbyia+e4CvS/pCRLyWPbrsnGx8GaowLiqMQ9JxwG7Afh3NsLm5uWTV66rmFxSkFbCpimmbqK6+7mhu3qiq6VpaWrq1bPsCt7F/6CttrHZ7A9VvczbqA8ulTW/8eCmb+D4N/A54RtKTwDbAM8B7Sk6/ANg6NzySdGXoWiQdDHwF2C8ifI+gmZn1uLJXdS6QtAvpXN3WpMOWf+rCg6rvB5oljSY96/No0q0Rq0naGbgCODQinis5XzMzsy4pu8dHluRmZn9dEhGrJJ0O3EY6N3hNRMySdB7wQERMAf4LGAr8QhLAUxFxZFfrMjMz60jpxNddETEVmFoYNyn3+uB6xWJmZo2r7FWZZmZm/YITn5mZNZS6Heo0M7P6uPDCwXWtb+LEvnURvvf4zMysoTjxmZlZQ3HiMzOzhuLEZ2ZmDcWJz8zMGooTn5mZNRQnPjMzayhOfGZm1lCc+MzMrKE48ZmZWUNx4jMzs4bixGdmZg3Fic/MzBpK3RKfpEMlPSppjqQvVXh/X0n/J2mVpA/WKy4zM2ssdUl8kgYClwGHAWOBCZLGFoo9BZwI3FiPmMzMrDHVqz++PYA5ETEXQNJk4ChgdluBiJiXvfdanWIyM7MGVK/EtxUwPze8ANizOzNsaWmpetotW1urnra1imlbqb6+arW0LOzGtNUv277Cbewf+kIbu7O9gb6xzenO9qY31CvxqcK46M4Mm5ubq552cFNTVdO1trbSVMW0TVRXX3c0N29U1XQtLS3dWrZ9gdvYP/SVNla7vYG+s82pdnsDvfPjpV4XtywAts4NjwT61k8EMzPrF+qV+O4HmiWNljQIOBqYUqe6zczMVqtL4ouIVcDpwG3AI8DNETFL0nmSjgSQtLukBcCHgCskzapHbGZm1ljqdY6PiJgKTC2Mm5R7fT/pEKiZmVnN+MktZmbWUJz4zMysoTjxmZlZQ3HiMzOzhuLEZ2ZmDcWJz8zMGooTn5mZNRQnPjMzayhOfGZm1lCc+MzMrKE48ZmZWUNx4jMzs4bixGdmZg3Fic/MzBqKE5+ZmTUUJz4zM2sodUt8kg6V9KikOZK+VOH9wZJ+nr1/n6RR9YrNzMwaR10Sn6SBwGXAYcBYYIKksYViJwOLI2IM8F3gm/WIzczMGosiovaVSOOAcyLi3dnwRICIuDBX5raszAxJGwDPAptFLsAlS5bUPlgzM+s1w4cPV63rqNehzq2A+bnhBdm4imUiYhWwBBhRl+jMzKxh1CvxVcrgxb23MmXMzMy6ZYM61bMA2Do3PBJY2E6ZBdmhzuFAa75APXaBzcysf6vXHt/9QLOk0ZIGAUcDUwplpgAnZK8/CNwR9TgBaWZmDaUuiS87Z3c6cBvwCHBzRMySdJ6kI7NiVwMjJM0BzgLWueWhXhrh1osSbTxL0mxJD0v6X0nb9kac3dFZG3PlPigpJO1Wz/i6q0z7JH04+xxnSbqx3jF2V4n1dBtJd0p6MFtXD++NOLtD0jWSnpP0t3bel6TvZ8vgYUm71DvG7irRxmOztj0sabqkd9Q0oIjwX+4PGAg8DmwHDAIeAsYWynwC+FH2+mjg570ddw3aeADw+uz1f/bHNmblNgbuBmYCu/V23D38GTYDDwKbZMNv7O24a9DGHwP/mb0eC8zr7biraOe+wC7A39p5/3DgD6TrIPYC7uvtmGvQxvG59fSwWrfRT25Z1x7AnIiYGxErgcnAUYUyRwHXZ69/CRwkqS+df+y0jRFxZ0S8mA3OJJ2X7UvKfI4A5wMXAy/VM7geUKZ9pwKXRcRigIh4rs4xdleZNgYwLHs9nHWvHVjvRcTdFK5nKDgK+EkkM4E3SHpTfaLrGZ21MSKmt62n1GF748S3rka49aJMG/NOJv3i7Es6baOknYGtI+J39Qysh5T5DN8CvEXSvZJmSjq0btH1jDJtPAc4TtICYCpwRn1Cq6uufl/7uppvb+p1VWdf0gi3XpSOX9JxwG7AfjWNqOd12EZJA0hPCDqxXgH1sDKf4Qakw537k35B3yPpbRHxQo1j6yll2jgBuC4ivp09KOOGrI2v1T68uunr25vSJB1ASnz71LIe7/Gtqyu3XtDerRfruTJtRNLBwFeAIyPi5TrF1lM6a+PGwNuAaZLmkc6dTOlDF7iUXU9vjYhXIuIJ4FFSIuwryrTxZOBmgIiYAQwBNq1LdPVT6vva10naEbgKOCoiFtWyLie+dTXCrRedtjE7DHgFKen1tXND0EkbI2JJRGwaEaMiYhTpvMKREfFA74TbZWXW09+QLlJC0qakQ59z6xpl95Rp41PAQQCS3kpKfM/XNcramwIcn13duRewJCKe6e2gepKkbYBbgI9GxGO1rs+HOgsiYpWktlsvBgLXRHbrBfBAREwh3XpxQ3brRSvpC9lnlGzjfwFDgV9k1+08FRFHtjvT9UzJNvZZJdt3G/AuSbOBV4HP1/qXdE8q2cbPAldK+gzp8N+JfexHKJJuIh2O3jQ7V/k1YEOAiPgR6dzl4cAc4EXgY70TafVKtHES6TqJH2bbm1URUbOjL3V5SLWZmdn6woc6zcysoTjxmZlZQ3HiMzOzhuLEZ2ZmDcWJz8zMGooTn1kvk/QHSSd0XtLMeoITn/UJkuZlT5LJjztR0h/rWWctRMRhEXF95yXNrCc48ZkVZI+hM7N+yonP+o1sD21i1vHqYknXShqSe//fJf1F0gtZZ5c7Fqb9oqSHgeXZkya2AX4raZmkL2Tl9sqmfUHSQ5L2z81jmqTzs94Q/iXpf7JHhSFpiKSfSlqUTXu/pM1z052SvR4g6WxJT2Ydd/5E0vDsvVFKHeaeIOkpSf+U9JV2lsVekp6VNDA37n1Z+5C0h6QHJC2V9A9J32lnPvtLWiDps1k8z0j6WO794VmMz2cxn630APDVe+SSvpV9Hk9IOqww7dXZPJ+W9PV8vGa14sRn/c2xwLuBN5OeTXk2gFKv1dcA/0F6NNIVpIdSD85NOwE4AnhDREwgPQfyPRExNCIulrQV8Hvg60AT8DngV5I2y83jGNIjpd5I6jz1c9n4E0gPM986q/80YEWF+E/M/g4gdcA6FLi0UGYfYHvSMyonZc+oXEvWb9ty4MBCbG29sF8CXBIRw7JldXOFWNpskcW+Femh0JdJ2iR77wfZe9uRevA4nrUfqbUn6eHYm5L6PbxaWt135fXAKmAMsDPwLuCUDuIw6xFOfNaX/CbbW3pB0gvADyuUuTQi5kdEK3ABKZlB6pT1ioi4LyJezc6pvUzqlaHN97NpKyUkgOOAqRExNSJei4j/BzxAeo5im2sj4rFsHjcDO2XjXyElvDFZ/X+OiKUV6jgW+E7W+eoyYCJwdOHw67kRsSIiHiL1Sv6OduK9qa39kjbO4rwpF88YSZtGxLIsUbbnFeC8rJeHqcAyYPts7+wjwMSI+FdEzAO+DXw0N+2TEXFlRLxKSnRvAjbP9nYPA86MiOXZg9C/Sx977q31TU581pe8NyLe0PYHfKJCmXyHnU8CW2avtwU+W0icW+feL05bybbAhwrz2Ie0MW/zbO71i6Q9NoAbSA9bnixpoaSLJW1YoY4ts7jzbdgA2LxEHUU3Au/P9mrfD/xfRLTN+2TSHvHfs8Ou/97OPAAWZR0uF+vclLRXW4w330nq6lgj4sXs5VDSstwQeCa3LK8g7Smb1ZRP4lt/k++3bBvW9Fs2H7ggIi7oYNriE9uLw/OBGyLi1K4GFRGvAOcC50oaRXri/qOknj7yFpKSQpttSIcD/0Hqh60rdc6W9CRpzyp/mJOIaAEmZOfj3g/8UtKIiFjehSr+Sdob3BaYnYv36RLTziftcW9aSKpmNec9PutvPilppKQm4MvAz7PxVwKnSdpTyUaSjsgOAbbnH6RzV21+CrxH0rslDcwuWNlfUqcJSdIBkt6eHR5cSkoYr1YoehPwGaU+6IYC3wB+3o3kcCPwKWBf4Be5eI6TtFnWU3lbj+yV4mlXdvjyZuACSRtL2hY4i7ScOpv2GeB/gG9LGpZd1PNmSft1JQazajjxWX9zI2mDOjf7+zpA1sHsqaQLRRaT+jY7sZN5XQicnR2K+1xEzAeOIiXU50l7LZ+n3PdoC+CXpKT3CHAXlRPENaTDoncDTwAvAWeUmH972vpBuyMi/pkbfygwS9Iy0oUuR0fES1XM/wzSRTRzgT+Slv81Jac9nnSodDbpM/klax82NqsJ98dn/YakecApEXF7b8diZusv7/GZmVlDceIzM7OG4kOdZmbWULzHZ2ZmDcWJz8zMGooTn5mZNRQnPjMzayhOfGZm1lCc+MzMrKH8f88tolFnyY/gAAAAAElFTkSuQmCC\n",
      "text/plain": [
       "<matplotlib.figure.Figure at 0x7f00850d6668>"
      ]
     },
     "metadata": {
      "needs_background": "light"
     },
     "output_type": "display_data"
    }
   ],
   "source": [
    "show_bar= plt.bar(ind, show, width, alpha=0.5, color='r', label='show')\n",
    "non_show_bar= plt.bar(ind+width, no_show, width, alpha=0.5,color='b',label='none')\n",
    "\n",
    "plt.title('Proportion of Hypertensive patients to none-hypertensive')\n",
    "plt.xlabel('Hpertension vs none')\n",
    "plt.ylabel('count of attendance')\n",
    "plt.legend();"
   ]
  },
  {
   "cell_type": "markdown",
   "metadata": {},
   "source": [
    "##### None-hypertensive patients attended the appointment day more than hypertensive patients"
   ]
  },
  {
   "cell_type": "code",
   "execution_count": null,
   "metadata": {},
   "outputs": [],
   "source": []
  },
  {
   "cell_type": "markdown",
   "metadata": {
    "collapsed": true
   },
   "source": [
    "## 2-How can sms messeges  affect appointment shows?\n",
    "## 3-How can gender affect appointment shows?"
   ]
  },
  {
   "cell_type": "code",
   "execution_count": 56,
   "metadata": {},
   "outputs": [],
   "source": [
    "df['IsMale'] = df['gender'].replace({'F': 0, 'M': 1})"
   ]
  },
  {
   "cell_type": "code",
   "execution_count": 65,
   "metadata": {},
   "outputs": [
    {
     "data": {
      "image/png": "iVBORw0KGgoAAAANSUhEUgAAA+0AAAEGCAYAAAAQW3R7AAAABHNCSVQICAgIfAhkiAAAAAlwSFlzAAALEgAACxIB0t1+/AAAADl0RVh0U29mdHdhcmUAbWF0cGxvdGxpYiB2ZXJzaW9uIDIuMS4wLCBodHRwOi8vbWF0cGxvdGxpYi5vcmcvpW3flQAAIABJREFUeJzt3XucXFWZ6P3fk8SQcEm4CAhJuDcqMo4HEULIIAICcZQw46DgKKh4gh4ExRvgeARRXuC8zijMCPoqKJmjQLxwQA4QM2AYgoh45WqmAwJpiURNaIgQIPC8f9RKUjR9qU66qnZ3/76fT32q9tprr1o71fVkP7XXXjsyE0mSJEmSVD1j2t0BSZIkSZLUO5N2SZIkSZIqyqRdkiRJkqSKMmmXJEmSJKmiTNolSZIkSaqoce3uQKt0d3c7Tb6kITd58uRodx+GmvFSUjOMtHhprJTULD3jpWfaJUmSJEmqKJN2SZIkSZIqyqRdkiRJkqSKMmmXJEmSJKmiTNolSZIkSaqoUTN7vKSNl5msWrWKF154od1daZkxY8aw+eabEzGiJj2W1GTGS0lqjPFyYC1L2iPiNOADQAJ3A+8DdgCuBLYGfgm8JzOfjYhNgLnA64E/A+/MzIdKO2cCJwLPA6dm5vxSfiRwITAW+EZmnt+qfZNGi1WrVrHJJpswfvz4dnelZZ599llWrVrFFlts0e6uSBpGjJeS1Bjj5cBaMjw+IqYApwL7Zube1BLrY4ELgC9lZgewkloyTnlemZl7AF8q9YiIvcp2rwGOBC6OiLERMRb4CjAL2As4rtSVNIReeOGFURVQAcaPHz+qfvmVNDSMl5LUGOPlwFp5Tfs4YGJEjAM2BZYBhwDfK+svB44ur2eXZcr6Q6M2dmA2cGVmPpOZvwOWAPuVx5LMfDAzn6V29n52C/ZJkiRJkqSmaUnSnpm/B74IPEItWe8GfgE8nplrSrUuYEp5PQVYWrZdU+pvU1/eY5u+yiUNE+eddx5z5sxpdzckqdKMlZLUmJEUL1tyTXtEbEXtzPeuwOPAd6kNZe8p127Sx7q+ynv78SF7KQOgs7Ozv+5K6sOECRPYZJNNmtL2mjVreP7551m9enVT2t8YTzzxBMuXL1+33NHR0cbetJbxUtowzYqXVY6VMHrjpbFyvZu/cV+7u9BUh3zAK3CHmvGypr942aqJ6A4DfpeZfwSIiB8AM4AtI2JcOZs+FXi01O8CpgFdZTj9ZGBFXfla9dv0Vf4So+U/EGmodXd3M2HChKa0PW7cOMaOHdu09jfGpEmTmDZt2sAVRyDjpbRhmhUvqxwrYfTGS2PlejczspN2P+uhZ7wcWKuuaX8EmB4Rm5Zr0w8F7gN+DPxDqXMCcE15fW1Zpqy/OTOzlB8bEZtExK5AB/Az4E6gIyJ2jYjx1Caru7YF+yVpA3z5y1/m1a9+NVOnTmXffffllltuAWozaZ500klMnTqV6dOn86tf/WrdNosXL+Zv//Zv2WmnnZg+fTrXX389AA899BA77bTTusk8TjnlFPbYY491282ZM4eLL764hXsnSUPDWClJjRnp8bJV17TfQW1CuV9Su93bGOD/A04HPhYRS6hds35p2eRSYJtS/jHgjNLOvcA8agn/jcDJmfl8OVP/YWA+cD8wr9SVVDGdnZ18/etf5+abb6arq4vvf//77LTTTgDccMMNvP3tb+fhhx9m1qxZfPKTnwTgueee49hjj+WQQw5hyZIlXHDBBcyZM4fOzk522WUXJk2axF133QXA7bffzmabbcbixYsB+MlPfsKBBx7Ynp2VpA1krJSkxoyGeNmy2eMz86zMfFVm7p2Z7ykzwD+Ymftl5h6ZeUxmPlPqri7Le5T1D9a1c25m7p6Zr8zMG+rKr8/MPcu6c1u1X5IGZ+zYsTzzzDMsXryY5557jp133pldd90VgOnTp3P44YczduxY3vnOd3LPPfcAcOedd/KXv/yF0047jfHjx/PGN76RI444gu99r3bziRkzZrBo0SIee+wxAGbPns1tt93GQw89xBNPPMFf/dVftWdnJWkDGSslqTGjIV628pZvksRuu+3Geeedx/nnn88ee+zB+9//fpYtWwbA9ttvv67exIkTWb16NWvWrOEPf/gDU6ZMYcyY9SFr2rRp67abOXMmixYt4ic/+QkzZsxg5syZ3Hbbbdx2220ccMABL9pOkoYDY6UkNWY0xEujs6SWO+aYY7jxxhu5++67iQjOOuusfuu/4hWv4Pe///26a4sAurq62GGHHQA48MADuf3221m0aBEHHngg06dP54477uC2225j5syZTd0XSWoWY6UkNWakx0uTdkkt1dnZyS233MIzzzzDhAkTmDBhAmPHju13m3333ZdNN92UCy+8kOeee45bb72VG2+8kbe//e0A7L777kycOJF58+YxY8YMJk2axLbbbssPf/hDr9GUNCwZKyWpMaMhXpq0S2qpZ555hs997nPsvvvu7LnnnvzpT3/is5/9bL/bjB8/niuuuIIFCxaw++6784lPfIJLLrmEPffcc12dAw88kK222mrdrTMOPPBAMpPXvva1Td0fSWoGY6UkNWY0xMuo3Ult5Ovu7h4dOyo1UXd3N5MnT253N1quv/2ePHlytLg7TWe8lDae8fKlRlq8NFb27munXzNwpWHspAtmt7sLI47x8qV6xkvPtEuSJEmSVFEm7ZIkSZIkVZRJuyRJkiRJFWXSLkmSJElSRZm0S5IkSZJUUSbtkiRJkiRVlEm7JEmSJEkVZdIuaVjZeuutmTlz5rrHww8/3Gfdhx9+mAMOOKCFvZOk6jBeSlJjqh4vx7X03SSNKG/91EVD2t51/+vUAetMnDiRRYsWDen7SlKznTnz3CFt77xF/zRgHeOlpOFo4T3LhrS9g/feYcA6VY+XnmmXNOw9/PDDzJo1i4MOOoiDDjqIO+644yV17r//fg455BBmzpzJjBkzeOCBBwC46qqr1pV/9KMf5fnnn2919yWpZYyXktSYKsVLz7RLGlaefvppZs6cCcDOO+/Mt7/9bbbddluuvvpqJkyYwAMPPMCJJ57IwoULX7TdZZddxgc/+EHe8Y538Oyzz/L888+zePFifvCDHzB//nxe9rKX8fGPf5x58+Zx3HHHtWHPJGloGS8lqTFVj5cm7ZKGld6GLz333HN88pOf5J577mHMmDHrfuWst99++/HP//zPPProo7ztbW9j991355ZbbuE3v/kNb3rTmwBYvXo1L3/5y1uyH5LUbMZLSWpM1eNlS5L2iHglcFVd0W7AZ4G5pXwX4CHgHZm5MiICuBB4C/AU8N7M/GVp6wTgM6WdL2Tm5aX89cC3gInA9cBHMjObumOSKuHiiy9mu+22Y9GiRbzwwgtsv/32L6lzzDHHsO+++zJ//nz+/u//nosuuojM5LjjjuOss85qQ68lqfWMl5LUmCrFy5Zc056ZizPzdZn5OuD11BLxq4EzgJsyswO4qSwDzAI6ymMOcAlARGwNnAXsD+wHnBURW5VtLil11253ZAt2TVIFPPHEE2y//faMGTOGK6+8stfrhh566CF22WUXPvjBDzJr1izuvfde3vjGN3LNNdfwxz/+EYCVK1fyyCOPtLr7ktQyxktJakyV4mU7JqI7FHggMx8GZgOXl/LLgaPL69nA3Kz5KbBlROwAHAEsyMwVmbkSWAAcWdZNyszby9n1uXVtSRrhPvCBD3DFFVdw2GGH8cADD7DZZpu9pM4PfvADDjjgAGbOnElnZyfHHXccr3rVq/jMZz7D3/3d3zFjxgyOPvpoHnvssTbsgSS1hvFSkhpTpXgZrR5BHhGXAb/MzH+LiMczc8u6dSszc6uIuA44PzMXlfKbgNOBg4EJmfmFUv4/gaeBhaX+YaX8b4DTM/Ota9vu7u52qLy0kbq7u5k8eXK7u9Fy/e335MmTo8XdaTrjpbTxjJcvNdLipbGyd187/Zp2d6GpTrpgdru7MOIYL1+qZ7xs6UR0ETEeOAo4c6CqvZTlBpT3qrOzc4C3l9SbCRMmsMkmm7S7Gy33xBNPsHz58nXLHR0dbexNaxkvpQ1jvKwZLfHSWDl6+FkPPeNlTX/xstWzx8+idpZ97fiAxyJih8xcVoa4r+11FzCtbrupwKOl/OAe5QtL+dRe6vdqtPwHIg217u5uJkyY0O5utNykSZOYNm3awBVHIOOltGGMl6OLsXK9m7mv3V1oKj/roWe8HFirr2k/Driibvla4ITy+gTgmrry46NmOtCdmcuA+cDhEbFVmYDucGB+WfdkREwvM88fX9eWJEmSJEnDUsvOtEfEpsCbgZPqis8H5kXEicAjwDGl/Hpqt3tbQm2m+fcBZOaKiPg8cGepd05mriivP8T6W77dUB6SJEmSJA1bLUvaM/MpYJseZX+mNpt8z7oJnNxHO5cBl/VS/nNg7yHprCRJkiRJFdCOW75JkiRJkqQGtHoiOknaYCtWrOCoo44CYPny5YwdO5ZttqkN4Ln55psZP358O7snSZVhvJSkgQ2XWGnSLmmDHXPD+UPa3ndnndHv+q233ppFixYBcN5557H55ptzyimnvKhOZpKZjBnjQCJJ1bHinLOHtL2tP9t/e8ZLScPV104f2vnET7pgdp/rhkusNEpLGvYefPBBDjjgAE477TQOOuggurq62Gmnndat//73v78uAC9fvpx3v/vdHHzwwRxyyCHceeedfTUrSSOO8VKSBla1WGnSLmlE+O1vf8t73vMebr31Vnbcccc+651++ul85CMfYeHChXzzm9/k1FNPbWEvJan9jJeSNLAqxUqHx0saEXbddVf22WefAestXLiQzs7OdcuPP/44Tz/9NBMnTmxm9ySpMoyXkjSwKsVKk3ZJI8Kmm2667nXPa45Wr1697nVmVmpiEUlqNeOlJA2sSrHS4fGSRpwxY8YwefJkHnjgAV544QWuu+66desOPvhgvv71r69bvuuuu9rRRUmqBOOlJA2s3bHSpF3SiPS5z32Ot7/97Rx11FFMmTJlXfkXv/hF7rjjDmbMmMH+++/P3Llz29hLSWo/46UkDaydsTIyc8gbraLu7u7RsaNSE3V3dzN58uR2d6Pl+tvvyZMnR4u703TGS2njGS9faqTFS2Nl74b6dl1V09/tw7RhjJcv1TNeeqZdkiRJkqSKMmmXJEmSJKmiTNolSZIkSaook3ZJkiRJkirK+7RLatiYMWN49tlnR9U9e5999tmX3JtTo9OKc85udxeaZuvPnt3uLow4xktJaozxcmAm7ZIatvnmm7Nq1SqefvrpdnelZcaMGcPmm2/e7m5IGmaMl5LUGOPlwEzaJTUsIthiiy3a3Q1JqjzjpSQ1xng5sJaNYYqILSPiexHx24i4PyIOiIitI2JBRHSW561K3YiIiyJiSUTcFRH71LVzQqnfGREn1JW/PiLuLttcFBEj6l6gkiRJkqTRp5UXHl0I3JiZrwL+GrgfOAO4KTM7gJvKMsAsoKM85gCXAETE1sBZwP7AfsBZaxP9UmdO3XZHtmCfJEmSJElqmpYk7RExCTgIuBQgM5/NzMeB2cDlpdrlwNHl9Wxgbtb8FNgyInYAjgAWZOaKzFwJLACOLOsmZebtmZnA3Lq2JEmSJEkallp1pn034I/ANyPiVxHxjYjYDNg+M5cBlOftSv0pwNK67btKWX/lXb2US5IkSZI0bLVqIrpxwD7AKZl5R0RcyPqh8L3p7Xr03IDyXnV2dvbz1pLUv46OjnZ3oWWMl+tt0+4ONJGfs5pltMRLv0Ojh5+1mqW/eNmqpL0L6MrMO8ry96gl7Y9FxA6ZuawMcV9eV39a3fZTgUdL+cE9yheW8qm91O/VaPkPRJI2lvFyvRXt7kAT+TlLG8fv0Ho3c1+7u9BUftZqh5YMj8/MPwBLI+KVpehQ4D7gWmDtDPAnANeU19cCx5dZ5KcD3WX4/Hzg8IjYqkxAdzgwv6x7MiKml1njj69rS5IkSZKkYamV92k/Bfh2RIwHHgTeR+1Hg3kRcSLwCHBMqXs98BZgCfBUqUtmroiIzwN3lnrnZObakx8fAr4FTARuKA9JkiRJkoatliXtmflrYN9eVh3aS90ETu6jncuAy3op/zmw90Z2U5IkSZKkymjlfdolSZIkSdIgmLRLkiRJklRRrbymXRV0zA3nt7sLTfPdWf3dVVCSJEmSqs8z7ZIkSZIkVZRJuyRJkiRJFWXSLkmSJElSRZm0S5IkSZJUUSbtkiRJkiRVlEm7JEmSJEkVZdIuSZIkSVJFmbRLkiRJklRRJu2SJEmSJFWUSbskSZIkSRVl0i5JkiRJUkWZtEuSJEmSVFEm7ZIkSZIkVZRJuyRJkiRJFdWypD0iHoqIuyPi1xHx81K2dUQsiIjO8rxVKY+IuCgilkTEXRGxT107J5T6nRFxQl3560v7S8q20ap9kyRJkiSpGVp9pv1Nmfm6zNy3LJ8B3JSZHcBNZRlgFtBRHnOAS6CW5ANnAfsD+wFnrU30S505ddsd2fzdkSRJkiSpedo9PH42cHl5fTlwdF353Kz5KbBlROwAHAEsyMwVmbkSWAAcWdZNyszbMzOBuXVtSZIkSZI0LLUyaU/gRxHxi4iYU8q2z8xlAOV5u1I+BVhat21XKeuvvKuXckmSJEmShq1xLXyvAzPz0YjYDlgQEb/tp25v16PnBpT3qrOzs9+OamTwc1azdHR0tLsLLeP3aL1t2t2BJvJzVrOMlnjpd2j08LNWs/QXL1uWtGfmo+V5eURcTe2a9MciYofMXFaGuC8v1buAaXWbTwUeLeUH9yhfWMqn9lK/V6PlP5CGLGl3B5rHz1naeH6P1lvR7g40kZ+ztHH8Dq13M/e1uwtN5WetdmjJ8PiI2Cwitlj7GjgcuAe4Flg7A/wJwDXl9bXA8WUW+elAdxk+Px84PCK2KhPQHQ7ML+uejIjpZdb44+vakiRJkiRpWGrVmfbtgavLXdjGAd/JzBsj4k5gXkScCDwCHFPqXw+8hdp54KeA9wFk5oqI+DxwZ6l3TmauPfnxIeBbwETghvKQJEmSJGnYaknSnpkPAn/dS/mfgUN7KU/g5D7augy4rJfynwN7b3RnJUmSJEmqiHbf8k2SJEmSJPWh4aQ9Ij7RR/nHhq47kqShYtyWpMYYLyVV2WDOtH+2j/LPDEVHJElDzrgtSY0xXkqqrAGvaY+IQ8rLsRHxJl58T/TdgCeb0TFJ0oYxbktSY4yXkoaDRiaiu7Q8T+DFE8Al8AfglKHulCRpoxi3JakxxktJlTdg0p6ZuwJExNzMPL75XZIkbQzjtiQ1xngpaTho+JZv9YEsIsb0WPfCUHZKkrTxjNuS1BjjpaQqG8zs8ftExO0R8RfgufJYU54lSRVj3JakxhgvJVVZw2fagcuBHwLvB55qTnckSUPIuC1JjTFeSqqswSTtOwP/lJnZrM5IkoaUcVuSGmO8lFRZg7lP+9XA4c3qiCRpyBm3JakxxktJlTWYM+0TgKsjYhG1W2Cs42ybklRJxm1JaozxUlJlDSZpv688JEnDg3FbkhpjvJRUWYO55dvnmtkRSdLQMm5LUmOMl5KqrOGkPSIO6WtdZt48NN2RJA0V47YkNcZ4KanKBjM8/tIey9sC44EuYLch65EkaagYtyWpMcZLSZU1mOHxu9YvR8RY4DPAk0PdKUnSxjNuS1JjjJeSqmwwt3x7kcx8HjgX+FSj20TE2Ij4VURcV5Z3jYg7IqIzIq6KiPGlfJOyvKSs36WujTNL+eKIOKKu/MhStiQiztjQ/ZKkkWpD4rYkjUbGS0lVssFJe/Fm4IVB1P8IcH/d8gXAlzKzA1gJnFjKTwRWZuYewJdKPSJiL+BY4DXAkcDF5YeAscBXgFnAXsBxpa4k6cUGG7clabQyXkqqhMFMRLcUyLqiTand0/J/NLj9VOBvqf1q+bGICOAQ4F2lyuXA2cAlwOzyGuB7wL+V+rOBKzPzGeB3EbEE2K/UW5KZD5b3urLU9dYdkkatjY3bkjRaGC8lVdlgJqJ7d4/lvwD/lZlPNLj9l6kNMdqiLG8DPJ6Za8pyFzClvJ4CLAXIzDUR0V3qTwF+Wtdm/TZLe5Tv32C/JGmk2ti4LUmjhfFSUmUNZiK6WwAiYgywPfBYZjY0ZCgi3gosz8xfRMTBa4t7e5sB1vVV3tsw/+ylDIDOzs6+O6sRw89ZzdLR0dHuLjRkY+L2Wn6P1tum3R1oIj9nNctoiZd+h0YPP2s1S3/xcjDD47egdt34O4GXAc+VYeinZmb3AJsfCBwVEW+hNtRoErUz71tGxLhytn0q8Gip3wVMA7oiYhwwGVhRV75W/TZ9lb/EcPkPpCWWtLsDzePnrNFuI+M24Peo3op2d6CJ/Jw12m1svPQ7tN7NI/zqVD9rtcNgJqL7V2Az4K+AieV5U+CigTbMzDMzc2pm7kJtIrmbM/MfgR8D/1CqnQBcU15fW5Yp62/OzCzlx5bZ5XcFOoCfAXcCHWU2+vHlPa4dxL5J0ki0wXFbkkYZ46WkyhrMNe1HArtl5lNl+b8i4n3AAxvx/qcDV0bEF4BfAZeW8kuBfy8Tza2gloSTmfdGxDxqE8ytAU4ut+QgIj4MzAfGApdl5r0b0S9JGgmaEbclaSQyXkqqrMEk7auBbYGH68peDjwzmDfMzIXAwvL6QdbP/l5fZzVwTB/bn0ttBvqe5dcD1w+mL5I0wg1J3JakUcB4KamyBpO0fwNYEBH/Qi2g7QycBny9GR2TJG0047YkNcZ4KamyBpO0nwv8HvhHYEdqE739r8y8tN+tJEntYtyWpMYYLyVV1mAmorsQWJyZh2XmXpl5GHB/RHy5SX2TJG0c47YkNcZ4KamyBpO0Hwf8vEfZL4B3DV13JElDyLgtSY0xXkqqrMEk7UltZvZ6YwfZhiSpdYzbktQY46WkyhpMILoV+HxEjAEoz2eXcklS9Ri3JakxxktJlTWYieg+AlwHLIuIh4GdgGXA25rRMUnSRjNuS1JjjJeSKqvhpD0zuyJiH2r3VZ8GLAV+lpkvNKtzkqQNZ9yWpMYYLyVV2WDOtFMC10/LQ5JUccZtSWqM8VJSVTm5hiRJkiRJFWXSLkmSJElSRZm0S5IkSZJUUSbtkiRJkiRVlEm7JEmSJEkVZdIuSZIkSVJFmbRLkiRJklRRJu2SJEmSJFVUS5L2iJgQET+LiN9ExL0R8blSvmtE3BERnRFxVUSML+WblOUlZf0udW2dWcoXR8QRdeVHlrIlEXFGK/ZLkiRJkqRmGtei93kGOCQzV0XEy4BFEXED8DHgS5l5ZUR8FTgRuKQ8r8zMPSLiWOAC4J0RsRdwLPAaYEfgPyJiz/IeXwHeDHQBd0bEtZl5X4v2TxrRjrnh/HZ3oam+O8vf+SRJklRNLTnTnjWryuLLyiOBQ4DvlfLLgaPL69llmbL+0IiIUn5lZj6Tmb8DlgD7lceSzHwwM58Frix1JUmSJEkatlp2TXtEjI2IXwPLgQXAA8DjmbmmVOkCppTXU4ClAGV9N7BNfXmPbfoqlyRJkiRp2GrV8Hgy83ngdRGxJXA18OreqpXn6GNdX+W9/fiQvZQB0NnZ2X9nNSL4OatRg/1b6ejoaFJPqsfv0XrbtLsDTeTnrGYZLfHS79Do4WetZukvXrYsaV8rMx+PiIXAdGDLiBhXzqZPBR4t1bqAaUBXRIwDJgMr6srXqt+mr/KXGC3/gTRkSbs70Dx+zkNoBP+dgH8r/fHfZr0V7e5AE/k5SxvH79B6NzOyp5Tys1Y7tGr2+G3LGXYiYiJwGHA/8GPgH0q1E4BryutryzJl/c2ZmaX82DK7/K5AB/Az4E6go8xGP57aZHXXNn/PJEmSJElqnladad8BuDwixlL7oWBeZl4XEfcBV0bEF4BfAZeW+pcC/x4RS6id3DgWIDPvjYh5wH3AGuDkMuyeiPgwMB8YC1yWmfe2aN8kSZIkSWqKliTtmXkX8N96KX+Q2szvPctXA8f00da5wLm9lF8PXL/RnZUkSZIkqSJaNnu8JEmSJEkaHJN2SZIkSZIqyqRdkiRJkqSKMmmXJEmSJKmiTNolSZIkSaook3ZJkiRJkiqqVfdplyRJGvFWnHN2u7vQNFt/9ux2d0GSRiXPtEuSJEmSVFEm7ZIkSZIkVZRJuyRJkiRJFWXSLkmSJElSRZm0S5IkSZJUUSbtkiRJkiRVlEm7JEmSJEkVZdIuSZIkSVJFmbRLkiRJklRRJu2SJEmSJFVUS5L2iJgWET+OiPsj4t6I+Egp3zoiFkREZ3neqpRHRFwUEUsi4q6I2KeurRNK/c6IOKGu/PURcXfZ5qKIiFbsmyRJkiRJzdKqM+1rgI9n5quB6cDJEbEXcAZwU2Z2ADeVZYBZQEd5zAEugVqSD5wF7A/sB5y1NtEvdebUbXdkC/ZLkiRJkqSmaUnSnpnLMvOX5fWTwP3AFGA2cHmpdjlwdHk9G5ibNT8FtoyIHYAjgAWZuSIzVwILgCPLukmZeXtmJjC3ri1JkiRJkoalca1+w4jYBfhvwB3A9pm5DGqJfURsV6pNAZbWbdZVyvor7+qlvFednZ0btQ8aHvyc1ajB/q10dHQ0qSfV4/dovW3a3YEm8nMeOv6dvNhoiZd+h0YPP2s1S3/xsqVJe0RsDnwf+GhmPtHPZee9rcgNKO/VaPkPpCFL2t2B5vFzHkIj+O8E/Fvpj/82661odweayM956Ph3MjoN9t9m4T3LmtQTNZvfA7VDy2aPj4iXUUvYv52ZPyjFj5Wh7ZTn5aW8C5hWt/lU4NEByqf2Ui5JkiRJ0rDVqtnjA7gUuD8z/6Vu1bXA2hngTwCuqSs/vswiPx3oLsPo5wOHR8RWZQK6w4H5Zd2TETG9vNfxdW1JkiRJkjQstWp4/IHAe4C7I+LXpezTwPnAvIg4EXgEOKasux54C7VBuU8B7wPIzBUR8XngzlLvnMxcOxLtQ8C3gInADeUhSZIkSdKw1ZKkPTMX0ft15wCH9lI/gZP7aOsy4LJeyn8O7L0R3ZQkSZIkqVJadk27JEmSJEkaHJN2SZIkSZIqyqRdkiRJkqSKMmmXJEmSJKmiTNolSZIkSaook3ZJkiRJkirKpF2SJEnVtYNVAAAN6klEQVSSpIoyaZckSZIkqaLGtbsDw8FbP3VRu7vQNBPf1O4eSJIkSZL64pl2SZIkSZIqyqRdkiRJkqSKMmmXJEmSJKmiTNolSZIkSaook3ZJkiRJkirK2eMlSUPmzJnntrsLTfPJw9vdA0mSNBp5pl2SJEmSpIoyaZckSZIkqaJakrRHxGURsTwi7qkr2zoiFkREZ3neqpRHRFwUEUsi4q6I2KdumxNK/c6IOKGu/PURcXfZ5qKIiFbslyRJkiRJzdSqM+3fAo7sUXYGcFNmdgA3lWWAWUBHecwBLoFakg+cBewP7AectTbRL3Xm1G3X870kSZIkSRp2WpK0Z+Z/Ait6FM8GLi+vLweOriufmzU/BbaMiB2AI4AFmbkiM1cCC4Ajy7pJmXl7ZiYwt64tSZIkSZKGrXbOHr99Zi4DyMxlEbFdKZ8CLK2r11XK+ivv6qW8T52dnRvXcw0Lfs5q1GD/Vjo6OprUk+rxezQ6+DkPnW3a3YEm2pC/k9ESLwf/b7N5U/qh5jNeqln6i5dVvOVbb9ej5waU92nw/4HcMMj6qoLRcqDQEkva3YHm8m+lb/7bjA6t/py9NeDwZDzo22D/bX5/z7Im9UTN5vdA7dDO2eMfK0PbKc/LS3kXMK2u3lTg0QHKp/ZSLkmSJEnSsNbOpP1aYO0M8CcA19SVH19mkZ8OdJdh9POBwyNiqzIB3eHA/LLuyYiYXmaNP76uLUmSJEmShq2WDI+PiCuAg4GXR0QXtVngzwfmRcSJwCPAMaX69cBbqA3IfQp4H0BmroiIzwN3lnrnZObaye0+RG2G+onUxrI7nl2SJEmSNOy1JGnPzOP6WHVoL3UTOLmPdi4DLuul/OfA3hvTR0mSJElSa3zt9JE7OPqkC2YPaXtVnIhOGpbe+qmL2t2Fppn4pnb3QJIkSRqd2nlNuyRJkiRJ6odJuyRJkiRJFWXSLkmSJElSRZm0S5IkSZJUUSbtkiRJkiRVlEm7JEmSJEkVZdIuSZIkSVJFmbRLkiRJklRRJu2SJEmSJFWUSbskSZIkSRVl0i5JkiRJUkWZtEuSJEmSVFEm7ZIkSZIkVdS4dndAkiRJkvRiC+9Z1u4uqCI80y5JkiRJUkWZtEuSJEmSVFEjKmmPiCMjYnFELImIM9rdH0mSJEmSNsaISdojYizwFWAWsBdwXETs1d5eSZIkSZK04SIz292HIRERBwBnZ+YRZflMgMw8D6C7u3tk7KikSpk8eXK0uw9DzXgpqRlGWrw0Vkpqlp7xcsScaQemAEvrlrtKmSRJkiRJw9JIStp7+/XWX0AlSZIkScPWSLpPexcwrW55KvDo2oWRNiRLkprFeClJAzNWSmqVkXSm/U6gIyJ2jYjxwLHAtW3ukyRJkiRJG2zEJO2ZuQb4MDAfuB+Yl5n3trdX1eYt8jSQiLgsIpZHxD3t7ovULsZKNcJ4KRkv1Rjj5eCNmNnjNTjlFnn/BbyZ2qUFdwLHZeZ9be2YKiUiDgJWAXMzc+9290dqNWOlGmW81GhnvFSjjJeDN2LOtGvQ9gOWZOaDmfkscCUwu819UsVk5n8CK9rdD6mNjJVqiPFSMl6qMcbLwTNpH728RZ4kDcxYKUmNMV5KTWLSPnp5izxJGpixUpIaY7yUmsSkffTq9xZ5kiTAWClJjTJeSk1i0j56eYs8SRqYsVKSGmO8lJrEpH2U8hZ5akREXAHcDrwyIroi4sR290lqJWOlGmW81GhnvFSjjJeD5y3fJEmSJEmqKM+0S5IkSZJUUSbtkiRJkiRVlEm7JEmSJEkVZdIuSZIkSVJFmbRLkiRJklRRJu3SIEXEwRHR1e5+SJIkaehFREbEHhuw3S5l23FN6NNDEXFYH+v+JiIWD/V7qjpM2jVi9BfM6upkRDxWH0wjYlxELI8I738oSS0SETtFxKqIGNuEtjfogFuShqPMvDUzX9nufqh5TNo1Gj0OzKpbfguwsk19kaRRKTMfyczNM/P5dvdFktqtGWfnNXKYtGvEiYg9IuKWiOiOiD9FxFU9qvw7cHzd8vHA3B5tvC8i7o+IJyPiwYg4qZ/32zEivh8Rf4yI30XEqUO3N5LUXh5IShruIuL0iPh9Oa5bHBGHRsTYiPh0RDxQyn8REdPqNjssIjojYmVEfCUiorQ1JiI+ExEPl5GacyNich/v2+fx5NrLLUvf/gB8MyJeHhHXRcTjEbEiIm6NiPp87XURcVc5xr0qIibUt1XX9kMRcWZE3Ff6/821dTU8mbRrJPo88CNgK2Aq8K891v8f4KCI2DIitgT+BrimR53lwFuBScD7gC9FxD4936gE0h8CvwGmAIcCH42II4ZudySNVn0caJ4dEd+NiP9dyu+OiD3LAdryiFgaEYfXtfHecrD4ZPlh8R8HeM/3RsRtEfGliFgBnF3K318OPldGxPyI2Llum9dExIJykPlYRHy6lI+JiDPKQfGfI2JeRGxd1q279jMijo2In/fox2kRcW15vUlEfDEiHintfzUiJtbV/WRELIuIRyPi/Rv/Ly9ppIiIVwIfBt6QmVsARwAPAR8DjqM24nIS8H7gqbpN3wq8Afhr4B1lO4D3lsebgN2AzYF/6+PtBzqefAWwNbAzMAf4ONAFbAtsD3waqL988x3AkcCuwGtLP/ryj6XPuwN7Ap/pp64qzqRdI9Fz1ILfjpm5OjMX9Vi/mlqi/U7gWODaUrZOZv7fzHwga26h9iPA3/TyXm8Ats3MczLz2cx8EPh6aVeSNlg/B5oAb6M2amgr4FfAfGr/p08BzgG+VtrYDLgImFXamAH8uoG33x94ENgOODcijqZ28Pj31A4mbwWuKO+xBfAfwI3AjsAewE2lnVOBo4E3lnUrga/08n7XAq+MiI66sncB3ymvL6B20Pm60v4U4LPl/Y8EPgG8GegA+p3bRNKo8zywCbBXRLwsMx/KzAeADwCfyczF5XjvN5n557rtzs/MxzPzEeDH1OIP1JLhf8nMBzNzFXAmcGxvo5IaOJ58ATgrM5/JzKepHcPuAOycmc+Va9Xrk/aLMvPRzFxB7Vj2dfTt3zJzaal7LrUfKDRMmbRrJPoUEMDPIuLePs66zKU2LP4lQ+MBImJWRPy0nDV6nNqvsC/vpZ2dgR3LMKbHS91PU/t1VJI2Rl8HmgC3Zub8zFwDfJdaIn1+Zj4HXAnsUkYSQe2gcO+ImJiZyzLz3gbe+9HM/NfMXFMOJE8CzsvM+8t7/j/UhmnuTO0s0h8y85/LD6VPZuYdpZ2TgH/KzK7MfIbaWft/6Hlwm5lPURvxdBxASd5fBVxbhqT+d+C0zFyRmU+W91/74+g7gG9m5j2Z+ZfyHpIEQGYuAT5KLTYsj4grI2JHYBrwQD+b/qHu9VPUzqhD7QfIh+vWPQyMo5djvwaOJ/+YmfUnjv5fYAnwozJC6owG+9SbpT36uGM/dVVxJu0acTLzD5n53zNzR2oHjBfHS2cRvpXaL5nbAy86Ex8RmwDfB74IbJ+ZWwLXU/shoKelwO8yc8u6xxaZ+ZYh3i1Jo0w/B5oAj9VVfRr4U92Ebk+X581LEvtO4IPAsoj4vxHxqgbefmmP5Z2BC+t+nFxBLSZOof8D352Bq+u2u5/ajxG9/bD5HdafCXoX8H9KMr8tsCnwi7p2bizlUDsQ7XlwKknrZOZ3MnMmtZiU1EbvLKU2dHywHi3trLUTsIYXx+VGjydfdOei8qPnxzNzN2ojqj4WEYduQB+hFpvr+/joBrajCjBp14gTEcdExNSyuJJaQHzR7MRlqNHbgKN6DDsCGE/t7NYfgTURMQs4nN79DHiiXHc6MWqTmuwdEW8Yqv2RNHr1caA52DbmZ+abqf1Q+Vtql/AMuFmP5aXAST1+oJyYmT+h/wPfpdSG5tdvNyEzf99L3R8BL4+I11FL3tcOjf8TtR8iXlPXxuTMXHuGaRkvPTiVJKB2qVFEHFKS6NXU4snzwDeAz0dER9S8NiK2aaDJK4DTImLXiNic2sifq8oopHqDOZ5c29e3Rm1C5QCeKP3c0DtsnBwRU8s8Ip8Gek7MrGHEpF0j0RuAOyJiFbXrJD+Smb/rWSkz7+1tmGgZenkqMI9a0v+u0s5LlDNbb6N2TdHvqB1cfgPodRZRSWpUPweag2lj+4g4qlzb/gywarBtFF8FzoyI15R2J0fEMWXddcArIuKjZcK4LSJi/7rtzl07aV1EbBsRs3t7g3LA+z1qw0O3BhaU8heo/dDwpYjYrrQzJdZP+DkPeG9E7BURmwJnbcD+SRq5NgHOp3aM9gdqc3V8GvgXavHjR9QS5EuBiX20Ue8yanOK/Ce1Y7/VwCk9Kw3meLJOB7U5QlYBtwMXZ+bCBvrUm+9Q27cHy+MLG9iOKiBeepJRkiS1W0S8ltqPgK+mNjnRT6jNLjwH2CMz313qHQZ8IzN3KcvjSv1p1BL0K6n9sJjUJqH7H5l5Xz/v+17gA+UMf335e6jNGbIz0A0syMz3l3V7AxcC+1D7ceDLmXl+1O6w8VFqlyrtSG0m5asy89MRsQu1A96XrT1DFRF/Q+1A+OLMPLnuvSdQm3juWGrXg/4euCQzLyrrzyjv8wK1GZIvBTrKJQaSNKpExEPU4vh/tLsvGhom7ZIkSZI0Qpi0jzwOj5ckSZIkqaJM2iVJGmUi4qsRsaqXx1fb3TdJ0sbJzF08yz6yODxekiRJkqSK8ky7JEmSJEkVZdIuSZIkSVJFmbRLkiRJklRRJu2SJEmSJFWUSbskSZIkSRX1/wNQ6ynTM+ogTwAAAABJRU5ErkJggg==\n",
      "text/plain": [
       "<matplotlib.figure.Figure at 0x7f00843e2710>"
      ]
     },
     "metadata": {
      "needs_background": "light"
     },
     "output_type": "display_data"
    }
   ],
   "source": [
    "fig, (ax1, ax2, ax3) = plt.subplots(ncols=3, sharey=True)\n",
    "sns.countplot(x='IsMale', data=df, hue='show', ax=ax1, palette='viridis');\n",
    "sns.countplot(x='sms_received', data=df, hue='show', ax=ax2, palette='magma');\n",
    "sns.countplot(data=df,x='scholarship',hue='show',palette='BuPu', ax=ax3)\n",
    "fig.set_figwidth(15)\n",
    "fig.set_figheight(4)"
   ]
  },
  {
   "cell_type": "markdown",
   "metadata": {},
   "source": [
    "#### <br>I just figure it out : That **females** append more than males \n",
    "#### <br> people who didn't receive sms messeges append more than people who recieved sms \n",
    "#### <br> People with no scholarship attend more"
   ]
  },
  {
   "cell_type": "markdown",
   "metadata": {
    "collapsed": true
   },
   "source": [
    "### 4- Now, Which month of the year affect the show appointment?"
   ]
  },
  {
   "cell_type": "code",
   "execution_count": 66,
   "metadata": {},
   "outputs": [
    {
     "data": {
      "image/png": "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\n",
      "text/plain": [
       "<matplotlib.figure.Figure at 0x7f00842b2208>"
      ]
     },
     "metadata": {
      "needs_background": "light"
     },
     "output_type": "display_data"
    }
   ],
   "source": [
    "sns.distplot(df.app_month);"
   ]
  },
  {
   "cell_type": "markdown",
   "metadata": {},
   "source": [
    "#### May is the major"
   ]
  },
  {
   "cell_type": "markdown",
   "metadata": {},
   "source": [
    "### 5-What's the most popular age attended the show?"
   ]
  },
  {
   "cell_type": "code",
   "execution_count": 75,
   "metadata": {},
   "outputs": [
    {
     "data": {
      "text/plain": [
       "Text(0.5,1,'Age Distribution')"
      ]
     },
     "execution_count": 75,
     "metadata": {},
     "output_type": "execute_result"
    },
    {
     "data": {
      "image/png": "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\n",
      "text/plain": [
       "<matplotlib.figure.Figure at 0x7f0089bbdc88>"
      ]
     },
     "metadata": {
      "needs_background": "light"
     },
     "output_type": "display_data"
    }
   ],
   "source": [
    "sns.violinplot(x=df[df.show==1].age, palette='plasma');\n",
    "plt.title(\"Age Distribution\")"
   ]
  },
  {
   "cell_type": "markdown",
   "metadata": {},
   "source": [
    "As we can see that most people are below 80's attend the appointment show"
   ]
  },
  {
   "cell_type": "markdown",
   "metadata": {},
   "source": [
    "\n",
    "### 6-Can neighbourhood affect count of people showing up?"
   ]
  },
  {
   "cell_type": "code",
   "execution_count": 69,
   "metadata": {
    "scrolled": true
   },
   "outputs": [
    {
     "data": {
      "image/png": "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\n",
      "text/plain": [
       "<matplotlib.figure.Figure at 0x7f0084268630>"
      ]
     },
     "metadata": {
      "needs_background": "light"
     },
     "output_type": "display_data"
    }
   ],
   "source": [
    "df.groupby('neighbourhood').count()['show'].plot(kind='bar',figsize=(15,10));"
   ]
  },
  {
   "cell_type": "markdown",
   "metadata": {},
   "source": [
    "We can see that people from **__Jardim Camburi__** attend the most "
   ]
  },
  {
   "cell_type": "markdown",
   "metadata": {},
   "source": [
    "I want to see if theremight be a correlation between independent variable"
   ]
  },
  {
   "cell_type": "code",
   "execution_count": 74,
   "metadata": {},
   "outputs": [
    {
     "data": {
      "image/png": "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\n",
      "text/plain": [
       "<matplotlib.figure.Figure at 0x7f0087fa0b38>"
      ]
     },
     "metadata": {
      "needs_background": "light"
     },
     "output_type": "display_data"
    }
   ],
   "source": [
    "sns.boxplot(x=\"gender\",y=\"age\", hue=\"show\", data=df, palette=\"Reds\");"
   ]
  },
  {
   "cell_type": "markdown",
   "metadata": {},
   "source": [
    "### We can see that older female patients attend more \n"
   ]
  },
  {
   "cell_type": "markdown",
   "metadata": {},
   "source": [
    "<a id='conclusions'></a>\n",
    "## Conclusions\n",
    "<br> **None-hypertensive** patients attended the appointment day more than hypertensive patients\n",
    "<br> **females** append more than males \n",
    "<br> people who **didn't receive sms** messeges append more than people who recieved sms \n",
    "<br> People with **no scholarship** attend more\n",
    "<br> people attend most in **May** \n",
    "<br> most people are **below 80's** that attend the appointment show\n",
    "<br> people from **Jardim Camburi** attend the most\n",
    "\n",
    "### Limitations\n",
    "**__ I couldn't drop waiting days that are less than zero, as it will affect the data badly__**\n",
    "\n"
   ]
  },
  {
   "cell_type": "code",
   "execution_count": 76,
   "metadata": {},
   "outputs": [
    {
     "data": {
      "text/plain": [
       "0"
      ]
     },
     "execution_count": 76,
     "metadata": {},
     "output_type": "execute_result"
    }
   ],
   "source": [
    "from subprocess import call\n",
    "call(['python', '-m', 'nbconvert', 'Investigate_a_Dataset.ipynb'])"
   ]
  },
  {
   "cell_type": "code",
   "execution_count": null,
   "metadata": {},
   "outputs": [],
   "source": []
  }
 ],
 "metadata": {
  "kernelspec": {
   "display_name": "Python 3",
   "language": "python",
   "name": "python3"
  },
  "language_info": {
   "codemirror_mode": {
    "name": "ipython",
    "version": 3
   },
   "file_extension": ".py",
   "mimetype": "text/x-python",
   "name": "python",
   "nbconvert_exporter": "python",
   "pygments_lexer": "ipython3",
   "version": "3.6.3"
  }
 },
 "nbformat": 4,
 "nbformat_minor": 2
}
